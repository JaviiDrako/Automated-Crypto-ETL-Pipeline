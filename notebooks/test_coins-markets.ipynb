{
 "cells": [
  {
   "cell_type": "code",
   "execution_count": 59,
   "id": "0e31dbbb",
   "metadata": {},
   "outputs": [],
   "source": [
    "import os\n",
    "import json\n",
    "import requests\n",
    "import pandas as pd\n",
    "from mysql import connector\n",
    "from dotenv import load_dotenv\n",
    "import numpy as np"
   ]
  },
  {
   "cell_type": "code",
   "execution_count": 60,
   "id": "6f5494ea",
   "metadata": {},
   "outputs": [],
   "source": [
    "coins = ['bitcoin', 'ethereum']"
   ]
  },
  {
   "cell_type": "code",
   "execution_count": 61,
   "id": "175b13b8",
   "metadata": {},
   "outputs": [
    {
     "data": {
      "text/plain": [
       "True"
      ]
     },
     "execution_count": 61,
     "metadata": {},
     "output_type": "execute_result"
    }
   ],
   "source": [
    "load_dotenv()"
   ]
  },
  {
   "cell_type": "code",
   "execution_count": 62,
   "id": "27d3cd73",
   "metadata": {},
   "outputs": [],
   "source": [
    "url = \"https://api.coingecko.com/api/v3/coins/markets\"\n",
    "params = {\n",
    "    \"vs_currency\": \"usd\",\n",
    "    \"ids\": \",\".join(coins),\n",
    "    \"order\": \"market_cap_desc\",\n",
    "    \"per_page\": len(coins),\n",
    "    \"page\": 1,\n",
    "    \"sparkline\": \"false\"\n",
    "}"
   ]
  },
  {
   "cell_type": "code",
   "execution_count": 63,
   "id": "d65f573e",
   "metadata": {},
   "outputs": [
    {
     "name": "stdout",
     "output_type": "stream",
     "text": [
      "{'vs_currency': 'usd', 'ids': 'bitcoin,ethereum', 'order': 'market_cap_desc', 'per_page': 2, 'page': 1, 'sparkline': 'false'}\n"
     ]
    }
   ],
   "source": [
    "print(params)"
   ]
  },
  {
   "cell_type": "markdown",
   "id": "8a89c068",
   "metadata": {},
   "source": [
    "# EXTRACT"
   ]
  },
  {
   "cell_type": "code",
   "execution_count": 64,
   "id": "4abe05f3",
   "metadata": {},
   "outputs": [],
   "source": [
    "response = requests.get(url, params=params)"
   ]
  },
  {
   "cell_type": "code",
   "execution_count": 65,
   "id": "036db46e",
   "metadata": {},
   "outputs": [],
   "source": [
    "payload = response.json()"
   ]
  },
  {
   "cell_type": "code",
   "execution_count": 66,
   "id": "7a4e2c4e",
   "metadata": {},
   "outputs": [
    {
     "data": {
      "text/plain": [
       "[{'id': 'bitcoin',\n",
       "  'symbol': 'btc',\n",
       "  'name': 'Bitcoin',\n",
       "  'image': 'https://coin-images.coingecko.com/coins/images/1/large/bitcoin.png?1696501400',\n",
       "  'current_price': 115504,\n",
       "  'market_cap': 2300731205694,\n",
       "  'market_cap_rank': 1,\n",
       "  'fully_diluted_valuation': 2300731205694,\n",
       "  'total_volume': 36284226230,\n",
       "  'high_24h': 117462,\n",
       "  'low_24h': 115157,\n",
       "  'price_change_24h': -1952.9339718897681,\n",
       "  'price_change_percentage_24h': -1.66269,\n",
       "  'market_cap_change_24h': -39574093936.33789,\n",
       "  'market_cap_change_percentage_24h': -1.69098,\n",
       "  'circulating_supply': 19923296.0,\n",
       "  'total_supply': 19923296.0,\n",
       "  'max_supply': 21000000.0,\n",
       "  'ath': 124128,\n",
       "  'ath_change_percentage': -6.98,\n",
       "  'ath_date': '2025-08-14T00:37:02.582Z',\n",
       "  'atl': 67.81,\n",
       "  'atl_change_percentage': 170178.14413,\n",
       "  'atl_date': '2013-07-06T00:00:00.000Z',\n",
       "  'roi': None,\n",
       "  'last_updated': '2025-09-19T21:39:53.028Z'},\n",
       " {'id': 'ethereum',\n",
       "  'symbol': 'eth',\n",
       "  'name': 'Ethereum',\n",
       "  'image': 'https://coin-images.coingecko.com/coins/images/279/large/ethereum.png?1696501628',\n",
       "  'current_price': 4471.25,\n",
       "  'market_cap': 539669024423,\n",
       "  'market_cap_rank': 2,\n",
       "  'fully_diluted_valuation': 539669024423,\n",
       "  'total_volume': 28704441168,\n",
       "  'high_24h': 4619.99,\n",
       "  'low_24h': 4443.55,\n",
       "  'price_change_24h': -126.63672556892834,\n",
       "  'price_change_percentage_24h': -2.75424,\n",
       "  'market_cap_change_24h': -15169519090.48059,\n",
       "  'market_cap_change_percentage_24h': -2.73404,\n",
       "  'circulating_supply': 120703962.6034045,\n",
       "  'total_supply': 120703962.6034045,\n",
       "  'max_supply': None,\n",
       "  'ath': 4946.05,\n",
       "  'ath_change_percentage': -9.75767,\n",
       "  'ath_date': '2025-08-24T19:21:03.333Z',\n",
       "  'atl': 0.432979,\n",
       "  'atl_change_percentage': 1030765.45197,\n",
       "  'atl_date': '2015-10-20T00:00:00.000Z',\n",
       "  'roi': {'times': 50.752665476004,\n",
       "   'currency': 'btc',\n",
       "   'percentage': 5075.2665476003995},\n",
       "  'last_updated': '2025-09-19T21:39:53.297Z'}]"
      ]
     },
     "execution_count": 66,
     "metadata": {},
     "output_type": "execute_result"
    }
   ],
   "source": [
    "payload"
   ]
  },
  {
   "cell_type": "code",
   "execution_count": 67,
   "id": "0ca82ed3",
   "metadata": {},
   "outputs": [
    {
     "name": "stdout",
     "output_type": "stream",
     "text": [
      "[\n",
      "    {\n",
      "        \"id\": \"bitcoin\",\n",
      "        \"symbol\": \"btc\",\n",
      "        \"name\": \"Bitcoin\",\n",
      "        \"image\": \"https://coin-images.coingecko.com/coins/images/1/large/bitcoin.png?1696501400\",\n",
      "        \"current_price\": 115504,\n",
      "        \"market_cap\": 2300731205694,\n",
      "        \"market_cap_rank\": 1,\n",
      "        \"fully_diluted_valuation\": 2300731205694,\n",
      "        \"total_volume\": 36284226230,\n",
      "        \"high_24h\": 117462,\n",
      "        \"low_24h\": 115157,\n",
      "        \"price_change_24h\": -1952.9339718897681,\n",
      "        \"price_change_percentage_24h\": -1.66269,\n",
      "        \"market_cap_change_24h\": -39574093936.33789,\n",
      "        \"market_cap_change_percentage_24h\": -1.69098,\n",
      "        \"circulating_supply\": 19923296.0,\n",
      "        \"total_supply\": 19923296.0,\n",
      "        \"max_supply\": 21000000.0,\n",
      "        \"ath\": 124128,\n",
      "        \"ath_change_percentage\": -6.98,\n",
      "        \"ath_date\": \"2025-08-14T00:37:02.582Z\",\n",
      "        \"atl\": 67.81,\n",
      "        \"atl_change_percentage\": 170178.14413,\n",
      "        \"atl_date\": \"2013-07-06T00:00:00.000Z\",\n",
      "        \"roi\": null,\n",
      "        \"last_updated\": \"2025-09-19T21:39:53.028Z\"\n",
      "    },\n",
      "    {\n",
      "        \"id\": \"ethereum\",\n",
      "        \"symbol\": \"eth\",\n",
      "        \"name\": \"Ethereum\",\n",
      "        \"image\": \"https://coin-images.coingecko.com/coins/images/279/large/ethereum.png?1696501628\",\n",
      "        \"current_price\": 4471.25,\n",
      "        \"market_cap\": 539669024423,\n",
      "        \"market_cap_rank\": 2,\n",
      "        \"fully_diluted_valuation\": 539669024423,\n",
      "        \"total_volume\": 28704441168,\n",
      "        \"high_24h\": 4619.99,\n",
      "        \"low_24h\": 4443.55,\n",
      "        \"price_change_24h\": -126.63672556892834,\n",
      "        \"price_change_percentage_24h\": -2.75424,\n",
      "        \"market_cap_change_24h\": -15169519090.48059,\n",
      "        \"market_cap_change_percentage_24h\": -2.73404,\n",
      "        \"circulating_supply\": 120703962.6034045,\n",
      "        \"total_supply\": 120703962.6034045,\n",
      "        \"max_supply\": null,\n",
      "        \"ath\": 4946.05,\n",
      "        \"ath_change_percentage\": -9.75767,\n",
      "        \"ath_date\": \"2025-08-24T19:21:03.333Z\",\n",
      "        \"atl\": 0.432979,\n",
      "        \"atl_change_percentage\": 1030765.45197,\n",
      "        \"atl_date\": \"2015-10-20T00:00:00.000Z\",\n",
      "        \"roi\": {\n",
      "            \"times\": 50.752665476004,\n",
      "            \"currency\": \"btc\",\n",
      "            \"percentage\": 5075.2665476003995\n",
      "        },\n",
      "        \"last_updated\": \"2025-09-19T21:39:53.297Z\"\n",
      "    }\n",
      "]\n"
     ]
    }
   ],
   "source": [
    "formatted_response = json.dumps(payload, indent=4)\n",
    "print(formatted_response)"
   ]
  },
  {
   "cell_type": "markdown",
   "id": "fe19426e",
   "metadata": {},
   "source": [
    "# TRANSFORM"
   ]
  },
  {
   "cell_type": "code",
   "execution_count": 68,
   "id": "f014953c",
   "metadata": {},
   "outputs": [
    {
     "data": {
      "text/html": [
       "<div>\n",
       "<style scoped>\n",
       "    .dataframe tbody tr th:only-of-type {\n",
       "        vertical-align: middle;\n",
       "    }\n",
       "\n",
       "    .dataframe tbody tr th {\n",
       "        vertical-align: top;\n",
       "    }\n",
       "\n",
       "    .dataframe thead th {\n",
       "        text-align: right;\n",
       "    }\n",
       "</style>\n",
       "<table border=\"1\" class=\"dataframe\">\n",
       "  <thead>\n",
       "    <tr style=\"text-align: right;\">\n",
       "      <th></th>\n",
       "      <th>id</th>\n",
       "      <th>symbol</th>\n",
       "      <th>name</th>\n",
       "      <th>image</th>\n",
       "      <th>current_price</th>\n",
       "      <th>market_cap</th>\n",
       "      <th>market_cap_rank</th>\n",
       "      <th>fully_diluted_valuation</th>\n",
       "      <th>total_volume</th>\n",
       "      <th>high_24h</th>\n",
       "      <th>...</th>\n",
       "      <th>total_supply</th>\n",
       "      <th>max_supply</th>\n",
       "      <th>ath</th>\n",
       "      <th>ath_change_percentage</th>\n",
       "      <th>ath_date</th>\n",
       "      <th>atl</th>\n",
       "      <th>atl_change_percentage</th>\n",
       "      <th>atl_date</th>\n",
       "      <th>roi</th>\n",
       "      <th>last_updated</th>\n",
       "    </tr>\n",
       "  </thead>\n",
       "  <tbody>\n",
       "    <tr>\n",
       "      <th>0</th>\n",
       "      <td>bitcoin</td>\n",
       "      <td>btc</td>\n",
       "      <td>Bitcoin</td>\n",
       "      <td>https://coin-images.coingecko.com/coins/images...</td>\n",
       "      <td>115504.00</td>\n",
       "      <td>2300731205694</td>\n",
       "      <td>1</td>\n",
       "      <td>2300731205694</td>\n",
       "      <td>36284226230</td>\n",
       "      <td>117462.00</td>\n",
       "      <td>...</td>\n",
       "      <td>1.992330e+07</td>\n",
       "      <td>21000000.0</td>\n",
       "      <td>124128.00</td>\n",
       "      <td>-6.98000</td>\n",
       "      <td>2025-08-14T00:37:02.582Z</td>\n",
       "      <td>67.810000</td>\n",
       "      <td>1.701781e+05</td>\n",
       "      <td>2013-07-06T00:00:00.000Z</td>\n",
       "      <td>None</td>\n",
       "      <td>2025-09-19T21:39:53.028Z</td>\n",
       "    </tr>\n",
       "    <tr>\n",
       "      <th>1</th>\n",
       "      <td>ethereum</td>\n",
       "      <td>eth</td>\n",
       "      <td>Ethereum</td>\n",
       "      <td>https://coin-images.coingecko.com/coins/images...</td>\n",
       "      <td>4471.25</td>\n",
       "      <td>539669024423</td>\n",
       "      <td>2</td>\n",
       "      <td>539669024423</td>\n",
       "      <td>28704441168</td>\n",
       "      <td>4619.99</td>\n",
       "      <td>...</td>\n",
       "      <td>1.207040e+08</td>\n",
       "      <td>NaN</td>\n",
       "      <td>4946.05</td>\n",
       "      <td>-9.75767</td>\n",
       "      <td>2025-08-24T19:21:03.333Z</td>\n",
       "      <td>0.432979</td>\n",
       "      <td>1.030765e+06</td>\n",
       "      <td>2015-10-20T00:00:00.000Z</td>\n",
       "      <td>{'times': 50.752665476004, 'currency': 'btc', ...</td>\n",
       "      <td>2025-09-19T21:39:53.297Z</td>\n",
       "    </tr>\n",
       "  </tbody>\n",
       "</table>\n",
       "<p>2 rows × 26 columns</p>\n",
       "</div>"
      ],
      "text/plain": [
       "         id symbol      name  \\\n",
       "0   bitcoin    btc   Bitcoin   \n",
       "1  ethereum    eth  Ethereum   \n",
       "\n",
       "                                               image  current_price  \\\n",
       "0  https://coin-images.coingecko.com/coins/images...      115504.00   \n",
       "1  https://coin-images.coingecko.com/coins/images...        4471.25   \n",
       "\n",
       "      market_cap  market_cap_rank  fully_diluted_valuation  total_volume  \\\n",
       "0  2300731205694                1            2300731205694   36284226230   \n",
       "1   539669024423                2             539669024423   28704441168   \n",
       "\n",
       "    high_24h  ...  total_supply  max_supply        ath  ath_change_percentage  \\\n",
       "0  117462.00  ...  1.992330e+07  21000000.0  124128.00               -6.98000   \n",
       "1    4619.99  ...  1.207040e+08         NaN    4946.05               -9.75767   \n",
       "\n",
       "                   ath_date        atl  atl_change_percentage  \\\n",
       "0  2025-08-14T00:37:02.582Z  67.810000           1.701781e+05   \n",
       "1  2025-08-24T19:21:03.333Z   0.432979           1.030765e+06   \n",
       "\n",
       "                   atl_date  \\\n",
       "0  2013-07-06T00:00:00.000Z   \n",
       "1  2015-10-20T00:00:00.000Z   \n",
       "\n",
       "                                                 roi              last_updated  \n",
       "0                                               None  2025-09-19T21:39:53.028Z  \n",
       "1  {'times': 50.752665476004, 'currency': 'btc', ...  2025-09-19T21:39:53.297Z  \n",
       "\n",
       "[2 rows x 26 columns]"
      ]
     },
     "execution_count": 68,
     "metadata": {},
     "output_type": "execute_result"
    }
   ],
   "source": [
    "coins_df = pd.DataFrame(payload)\n",
    "coins_df"
   ]
  },
  {
   "cell_type": "code",
   "execution_count": 69,
   "id": "63c870a5",
   "metadata": {},
   "outputs": [
    {
     "name": "stdout",
     "output_type": "stream",
     "text": [
      "<class 'pandas.core.frame.DataFrame'>\n",
      "RangeIndex: 2 entries, 0 to 1\n",
      "Data columns (total 26 columns):\n",
      " #   Column                            Non-Null Count  Dtype  \n",
      "---  ------                            --------------  -----  \n",
      " 0   id                                2 non-null      object \n",
      " 1   symbol                            2 non-null      object \n",
      " 2   name                              2 non-null      object \n",
      " 3   image                             2 non-null      object \n",
      " 4   current_price                     2 non-null      float64\n",
      " 5   market_cap                        2 non-null      int64  \n",
      " 6   market_cap_rank                   2 non-null      int64  \n",
      " 7   fully_diluted_valuation           2 non-null      int64  \n",
      " 8   total_volume                      2 non-null      int64  \n",
      " 9   high_24h                          2 non-null      float64\n",
      " 10  low_24h                           2 non-null      float64\n",
      " 11  price_change_24h                  2 non-null      float64\n",
      " 12  price_change_percentage_24h       2 non-null      float64\n",
      " 13  market_cap_change_24h             2 non-null      float64\n",
      " 14  market_cap_change_percentage_24h  2 non-null      float64\n",
      " 15  circulating_supply                2 non-null      float64\n",
      " 16  total_supply                      2 non-null      float64\n",
      " 17  max_supply                        1 non-null      float64\n",
      " 18  ath                               2 non-null      float64\n",
      " 19  ath_change_percentage             2 non-null      float64\n",
      " 20  ath_date                          2 non-null      object \n",
      " 21  atl                               2 non-null      float64\n",
      " 22  atl_change_percentage             2 non-null      float64\n",
      " 23  atl_date                          2 non-null      object \n",
      " 24  roi                               1 non-null      object \n",
      " 25  last_updated                      2 non-null      object \n",
      "dtypes: float64(14), int64(4), object(8)\n",
      "memory usage: 544.0+ bytes\n"
     ]
    }
   ],
   "source": [
    "coins_df.info()"
   ]
  },
  {
   "cell_type": "code",
   "execution_count": 70,
   "id": "6c034555",
   "metadata": {},
   "outputs": [
    {
     "name": "stdout",
     "output_type": "stream",
     "text": [
      "<class 'pandas.core.frame.DataFrame'>\n",
      "RangeIndex: 2 entries, 0 to 1\n",
      "Data columns (total 20 columns):\n",
      " #   Column                            Non-Null Count  Dtype  \n",
      "---  ------                            --------------  -----  \n",
      " 0   id                                2 non-null      object \n",
      " 1   symbol                            2 non-null      object \n",
      " 2   name                              2 non-null      object \n",
      " 3   current_price                     2 non-null      float64\n",
      " 4   market_cap                        2 non-null      int64  \n",
      " 5   market_cap_rank                   2 non-null      int64  \n",
      " 6   total_volume                      2 non-null      int64  \n",
      " 7   high_24h                          2 non-null      float64\n",
      " 8   low_24h                           2 non-null      float64\n",
      " 9   price_change_percentage_24h       2 non-null      float64\n",
      " 10  market_cap_change_percentage_24h  2 non-null      float64\n",
      " 11  circulating_supply                2 non-null      float64\n",
      " 12  max_supply                        1 non-null      float64\n",
      " 13  ath                               2 non-null      float64\n",
      " 14  ath_change_percentage             2 non-null      float64\n",
      " 15  ath_date                          2 non-null      object \n",
      " 16  atl                               2 non-null      float64\n",
      " 17  atl_change_percentage             2 non-null      float64\n",
      " 18  atl_date                          2 non-null      object \n",
      " 19  last_updated                      2 non-null      object \n",
      "dtypes: float64(11), int64(3), object(6)\n",
      "memory usage: 448.0+ bytes\n"
     ]
    },
    {
     "data": {
      "text/html": [
       "<div>\n",
       "<style scoped>\n",
       "    .dataframe tbody tr th:only-of-type {\n",
       "        vertical-align: middle;\n",
       "    }\n",
       "\n",
       "    .dataframe tbody tr th {\n",
       "        vertical-align: top;\n",
       "    }\n",
       "\n",
       "    .dataframe thead th {\n",
       "        text-align: right;\n",
       "    }\n",
       "</style>\n",
       "<table border=\"1\" class=\"dataframe\">\n",
       "  <thead>\n",
       "    <tr style=\"text-align: right;\">\n",
       "      <th></th>\n",
       "      <th>id</th>\n",
       "      <th>symbol</th>\n",
       "      <th>name</th>\n",
       "      <th>current_price</th>\n",
       "      <th>market_cap</th>\n",
       "      <th>market_cap_rank</th>\n",
       "      <th>total_volume</th>\n",
       "      <th>high_24h</th>\n",
       "      <th>low_24h</th>\n",
       "      <th>price_change_percentage_24h</th>\n",
       "      <th>market_cap_change_percentage_24h</th>\n",
       "      <th>circulating_supply</th>\n",
       "      <th>max_supply</th>\n",
       "      <th>ath</th>\n",
       "      <th>ath_change_percentage</th>\n",
       "      <th>ath_date</th>\n",
       "      <th>atl</th>\n",
       "      <th>atl_change_percentage</th>\n",
       "      <th>atl_date</th>\n",
       "      <th>last_updated</th>\n",
       "    </tr>\n",
       "  </thead>\n",
       "  <tbody>\n",
       "    <tr>\n",
       "      <th>0</th>\n",
       "      <td>bitcoin</td>\n",
       "      <td>btc</td>\n",
       "      <td>Bitcoin</td>\n",
       "      <td>115504.00</td>\n",
       "      <td>2300731205694</td>\n",
       "      <td>1</td>\n",
       "      <td>36284226230</td>\n",
       "      <td>117462.00</td>\n",
       "      <td>115157.00</td>\n",
       "      <td>-1.66269</td>\n",
       "      <td>-1.69098</td>\n",
       "      <td>1.992330e+07</td>\n",
       "      <td>21000000.0</td>\n",
       "      <td>124128.00</td>\n",
       "      <td>-6.98000</td>\n",
       "      <td>2025-08-14T00:37:02.582Z</td>\n",
       "      <td>67.810000</td>\n",
       "      <td>1.701781e+05</td>\n",
       "      <td>2013-07-06T00:00:00.000Z</td>\n",
       "      <td>2025-09-19T21:39:53.028Z</td>\n",
       "    </tr>\n",
       "    <tr>\n",
       "      <th>1</th>\n",
       "      <td>ethereum</td>\n",
       "      <td>eth</td>\n",
       "      <td>Ethereum</td>\n",
       "      <td>4471.25</td>\n",
       "      <td>539669024423</td>\n",
       "      <td>2</td>\n",
       "      <td>28704441168</td>\n",
       "      <td>4619.99</td>\n",
       "      <td>4443.55</td>\n",
       "      <td>-2.75424</td>\n",
       "      <td>-2.73404</td>\n",
       "      <td>1.207040e+08</td>\n",
       "      <td>NaN</td>\n",
       "      <td>4946.05</td>\n",
       "      <td>-9.75767</td>\n",
       "      <td>2025-08-24T19:21:03.333Z</td>\n",
       "      <td>0.432979</td>\n",
       "      <td>1.030765e+06</td>\n",
       "      <td>2015-10-20T00:00:00.000Z</td>\n",
       "      <td>2025-09-19T21:39:53.297Z</td>\n",
       "    </tr>\n",
       "  </tbody>\n",
       "</table>\n",
       "</div>"
      ],
      "text/plain": [
       "         id symbol      name  current_price     market_cap  market_cap_rank  \\\n",
       "0   bitcoin    btc   Bitcoin      115504.00  2300731205694                1   \n",
       "1  ethereum    eth  Ethereum        4471.25   539669024423                2   \n",
       "\n",
       "   total_volume   high_24h    low_24h  price_change_percentage_24h  \\\n",
       "0   36284226230  117462.00  115157.00                     -1.66269   \n",
       "1   28704441168    4619.99    4443.55                     -2.75424   \n",
       "\n",
       "   market_cap_change_percentage_24h  circulating_supply  max_supply  \\\n",
       "0                          -1.69098        1.992330e+07  21000000.0   \n",
       "1                          -2.73404        1.207040e+08         NaN   \n",
       "\n",
       "         ath  ath_change_percentage                  ath_date        atl  \\\n",
       "0  124128.00               -6.98000  2025-08-14T00:37:02.582Z  67.810000   \n",
       "1    4946.05               -9.75767  2025-08-24T19:21:03.333Z   0.432979   \n",
       "\n",
       "   atl_change_percentage                  atl_date              last_updated  \n",
       "0           1.701781e+05  2013-07-06T00:00:00.000Z  2025-09-19T21:39:53.028Z  \n",
       "1           1.030765e+06  2015-10-20T00:00:00.000Z  2025-09-19T21:39:53.297Z  "
      ]
     },
     "execution_count": 70,
     "metadata": {},
     "output_type": "execute_result"
    }
   ],
   "source": [
    "coins_df = coins_df.drop(columns=['image', 'fully_diluted_valuation', 'price_change_24h', 'market_cap_change_24h', 'total_supply', 'roi'], errors='ignore')\n",
    "\n",
    "coins_df.info()\n",
    "\n",
    "coins_df"
   ]
  },
  {
   "cell_type": "code",
   "execution_count": 71,
   "id": "285d2250",
   "metadata": {},
   "outputs": [
    {
     "name": "stdout",
     "output_type": "stream",
     "text": [
      "<class 'pandas.core.frame.DataFrame'>\n",
      "RangeIndex: 2 entries, 0 to 1\n",
      "Data columns (total 20 columns):\n",
      " #   Column                            Non-Null Count  Dtype              \n",
      "---  ------                            --------------  -----              \n",
      " 0   id                                2 non-null      object             \n",
      " 1   symbol                            2 non-null      object             \n",
      " 2   name                              2 non-null      object             \n",
      " 3   current_price                     2 non-null      object             \n",
      " 4   market_cap                        2 non-null      int64              \n",
      " 5   market_cap_rank                   2 non-null      int64              \n",
      " 6   total_volume                      2 non-null      int64              \n",
      " 7   high_24h                          2 non-null      object             \n",
      " 8   low_24h                           2 non-null      object             \n",
      " 9   price_change_percentage_24h       2 non-null      object             \n",
      " 10  market_cap_change_percentage_24h  2 non-null      object             \n",
      " 11  circulating_supply                2 non-null      object             \n",
      " 12  max_supply                        1 non-null      object             \n",
      " 13  ath                               2 non-null      object             \n",
      " 14  ath_change_percentage             2 non-null      object             \n",
      " 15  ath_date                          2 non-null      datetime64[ns, UTC]\n",
      " 16  atl                               2 non-null      object             \n",
      " 17  atl_change_percentage             2 non-null      object             \n",
      " 18  atl_date                          2 non-null      datetime64[ns, UTC]\n",
      " 19  last_updated                      2 non-null      datetime64[ns, UTC]\n",
      "dtypes: datetime64[ns, UTC](3), int64(3), object(14)\n",
      "memory usage: 448.0+ bytes\n"
     ]
    }
   ],
   "source": [
    "coins_df['ath_date'] = pd.to_datetime(coins_df['ath_date'], errors='coerce')\n",
    "coins_df['atl_date'] = pd.to_datetime(coins_df['atl_date'], errors='coerce')\n",
    "coins_df['last_updated'] = pd.to_datetime(coins_df['last_updated'], errors='coerce')\n",
    "\n",
    "decimals_dict = {\n",
    "    'current_price': 7,\n",
    "    'high_24h': 8,\n",
    "    'low_24h': 8,\n",
    "    'price_change_percentage_24h': 4,\n",
    "    'market_cap_change_percentage_24h': 4,\n",
    "    'circulating_supply': 8,\n",
    "    'max_supply': 8,\n",
    "    'ath': 8,\n",
    "    'ath_change_percentage': 4,\n",
    "    'atl': 8,\n",
    "    'atl_change_percentage': 4\n",
    "}\n",
    "\n",
    "coins_df = coins_df.round(decimals_dict)\n",
    "\n",
    "coins_df = coins_df.replace({np.nan: None})\n",
    "\n",
    "coins_df.info()"
   ]
  },
  {
   "cell_type": "markdown",
   "id": "4ba3cbf5",
   "metadata": {},
   "source": [
    "# LOAD"
   ]
  },
  {
   "cell_type": "code",
   "execution_count": 72,
   "id": "55705473",
   "metadata": {},
   "outputs": [],
   "source": [
    "MYSQL_USER = os.getenv(\"MYSQL_USER\")\n",
    "MYSQL_PASSWORD = os.getenv(\"MYSQL_PASSWORD\")\n",
    "MYSQL_HOST = os.getenv(\"MYSQL_HOST\")\n",
    "MYSQL_PORT = os.getenv(\"MYSQL_PORT\")\n",
    "MYSQL_DB = os.getenv(\"MYSQL_DATABASE\")"
   ]
  },
  {
   "cell_type": "code",
   "execution_count": 73,
   "id": "caa837c3",
   "metadata": {},
   "outputs": [
    {
     "name": "stdout",
     "output_type": "stream",
     "text": [
      "[SUCCESS] Connected to MySQL db localhost:3306/cryptodb as user root\n"
     ]
    }
   ],
   "source": [
    "db_conn = connector.connect(\n",
    "    host=MYSQL_HOST,\n",
    "    user=MYSQL_USER,\n",
    "    password=MYSQL_PASSWORD,\n",
    "    port=MYSQL_PORT,\n",
    "    database=MYSQL_DB,\n",
    "    connection_timeout=10,\n",
    "    autocommit=False,\n",
    "    raise_on_warnings=True\n",
    ")   \n",
    "\n",
    "db_cur = db_conn.cursor()\n",
    "print(f\"[SUCCESS] Connected to MySQL db {MYSQL_HOST}:{MYSQL_PORT}/{MYSQL_DB} as user {MYSQL_USER}\")\n"
   ]
  },
  {
   "cell_type": "code",
   "execution_count": 74,
   "id": "eb376457",
   "metadata": {},
   "outputs": [
    {
     "name": "stdout",
     "output_type": "stream",
     "text": [
      "[SUCCESS] Table 'market_snapshots' exists in database 'cryptodb'\n"
     ]
    }
   ],
   "source": [
    "sql_table = \"market_snapshots\"\n",
    "db_cur.execute(f\"SHOW TABLES LIKE '{sql_table}'\")\n",
    "\n",
    "if db_cur.fetchone() is None:\n",
    "    raise SystemExit(f\"[ERROR] Table '{sql_table}' does not exist in database '{MYSQL_DB}'\")\n",
    "else:\n",
    "    print(f\"[SUCCESS] Table '{sql_table}' exists in database '{MYSQL_DB}'\")\n",
    "    "
   ]
  },
  {
   "cell_type": "code",
   "execution_count": 75,
   "id": "30b11205",
   "metadata": {},
   "outputs": [],
   "source": [
    "INSERT_SQL = f\"\"\"\n",
    "INSERT INTO {sql_table} (\n",
    "    coin_id, symbol, name, current_price, market_cap, \n",
    "    market_cap_rank, total_volume, high_24h, low_24h, \n",
    "    price_change_percentage_24h, market_cap_change_percentage_24h, \n",
    "    circulating_supply, max_supply, ath, ath_change_percentage, \n",
    "    ath_date, atl, atl_change_percentage, atl_date, last_updated\n",
    ") \n",
    "VALUES (\n",
    "    %s, %s, %s, %s, %s, \n",
    "    %s, %s, %s, %s, \n",
    "    %s, %s, \n",
    "    %s, %s, %s, %s, \n",
    "    %s, %s, %s, %s, %s\n",
    ") \n",
    "\"\"\"\n"
   ]
  },
  {
   "cell_type": "code",
   "execution_count": 76,
   "id": "f73c2304",
   "metadata": {},
   "outputs": [
    {
     "name": "stdout",
     "output_type": "stream",
     "text": [
      "[['bitcoin', 'btc', 'Bitcoin', 115504.0, 2300731205694, 1, 36284226230, 117462.0, 115157.0, -1.6627, -1.691, 19923296.0, 21000000.0, 124128.0, -6.98, Timestamp('2025-08-14 00:37:02.582000+0000', tz='UTC'), 67.81, 170178.1441, Timestamp('2013-07-06 00:00:00+0000', tz='UTC'), Timestamp('2025-09-19 21:39:53.028000+0000', tz='UTC')], ['ethereum', 'eth', 'Ethereum', 4471.25, 539669024423, 2, 28704441168, 4619.99, 4443.55, -2.7542, -2.734, 120703962.6034045, None, 4946.05, -9.7577, Timestamp('2025-08-24 19:21:03.333000+0000', tz='UTC'), 0.432979, 1030765.452, Timestamp('2015-10-20 00:00:00+0000', tz='UTC'), Timestamp('2025-09-19 21:39:53.297000+0000', tz='UTC')]]\n"
     ]
    }
   ],
   "source": [
    "coins_list = coins_df.values.tolist()\n",
    "print(coins_list)"
   ]
  },
  {
   "cell_type": "code",
   "execution_count": 77,
   "id": "3b507ee5",
   "metadata": {},
   "outputs": [
    {
     "name": "stdout",
     "output_type": "stream",
     "text": [
      "[SUCCESS] Upserted 2 records into table 'market_snapshots'\n",
      "[INFO] MySQL connection closed\n"
     ]
    }
   ],
   "source": [
    "try:\n",
    "    db_cur.executemany(INSERT_SQL, coins_list)\n",
    "    db_conn.commit()\n",
    "    print(f\"[SUCCESS] Upserted {db_cur.rowcount} records into table '{sql_table}'\")\n",
    "except connector.Error as err:\n",
    "    db_conn.rollback()\n",
    "    print(f\"[ERROR] Failed to upsert records into table '{sql_table}': {err}\")\n",
    "finally:\n",
    "    db_cur.close()\n",
    "    db_conn.close()\n",
    "    print(\"[INFO] MySQL connection closed\")"
   ]
  }
 ],
 "metadata": {
  "kernelspec": {
   "display_name": "crypto-etl-venv (3.10.12)",
   "language": "python",
   "name": "python3"
  },
  "language_info": {
   "codemirror_mode": {
    "name": "ipython",
    "version": 3
   },
   "file_extension": ".py",
   "mimetype": "text/x-python",
   "name": "python",
   "nbconvert_exporter": "python",
   "pygments_lexer": "ipython3",
   "version": "3.10.12"
  }
 },
 "nbformat": 4,
 "nbformat_minor": 5
}
