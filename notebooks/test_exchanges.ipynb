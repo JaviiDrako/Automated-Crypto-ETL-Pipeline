{
 "cells": [
  {
   "cell_type": "code",
   "execution_count": 1,
   "id": "8e43b89b",
   "metadata": {},
   "outputs": [],
   "source": [
    "import os\n",
    "import requests\n",
    "import pandas as pd\n",
    "from mysql import connector\n",
    "from dotenv import load_dotenv\n",
    "import numpy as np\n",
    "from datetime import datetime"
   ]
  },
  {
   "cell_type": "code",
   "execution_count": 2,
   "id": "7280e8b4",
   "metadata": {},
   "outputs": [
    {
     "name": "stdout",
     "output_type": "stream",
     "text": [
      "{'per_page': 50, 'page': 1}\n"
     ]
    }
   ],
   "source": [
    "load_dotenv()\n",
    "\n",
    "url_base = \"https://api.coingecko.com/api/v3/exchanges\"\n",
    "params = {\n",
    "    \"per_page\": 50,\n",
    "    \"page\": 1\n",
    "}\n",
    "\n",
    "print(params)"
   ]
  },
  {
   "cell_type": "markdown",
   "id": "b8276767",
   "metadata": {},
   "source": [
    "# EXTRACT"
   ]
  },
  {
   "cell_type": "code",
   "execution_count": 6,
   "id": "9244e7bf",
   "metadata": {},
   "outputs": [
    {
     "data": {
      "text/plain": [
       "{'id': 'binance',\n",
       " 'name': 'Binance',\n",
       " 'year_established': 2017,\n",
       " 'country': 'Cayman Islands',\n",
       " 'description': 'One of the world’s largest cryptocurrency exchanges by trading volume, offering a wide range of services including spot, futures, and staking options.',\n",
       " 'url': 'https://www.binance.com/',\n",
       " 'image': 'https://coin-images.coingecko.com/markets/images/52/small/binance.jpg?1706864274',\n",
       " 'has_trading_incentive': False,\n",
       " 'trust_score': 10,\n",
       " 'trust_score_rank': 1,\n",
       " 'trade_volume_24h_btc': 161473.2248231604}"
      ]
     },
     "execution_count": 6,
     "metadata": {},
     "output_type": "execute_result"
    }
   ],
   "source": [
    "response = requests.get(url_base, params=params)\n",
    "payload = response.json()\n",
    "payload[0]"
   ]
  },
  {
   "cell_type": "markdown",
   "id": "16860a0e",
   "metadata": {},
   "source": [
    "# TRANSFORM"
   ]
  },
  {
   "cell_type": "code",
   "execution_count": 167,
   "id": "bee7aeb8",
   "metadata": {},
   "outputs": [
    {
     "data": {
      "text/html": [
       "<div>\n",
       "<style scoped>\n",
       "    .dataframe tbody tr th:only-of-type {\n",
       "        vertical-align: middle;\n",
       "    }\n",
       "\n",
       "    .dataframe tbody tr th {\n",
       "        vertical-align: top;\n",
       "    }\n",
       "\n",
       "    .dataframe thead th {\n",
       "        text-align: right;\n",
       "    }\n",
       "</style>\n",
       "<table border=\"1\" class=\"dataframe\">\n",
       "  <thead>\n",
       "    <tr style=\"text-align: right;\">\n",
       "      <th></th>\n",
       "      <th>id</th>\n",
       "      <th>name</th>\n",
       "      <th>year_established</th>\n",
       "      <th>country</th>\n",
       "      <th>description</th>\n",
       "      <th>url</th>\n",
       "      <th>image</th>\n",
       "      <th>has_trading_incentive</th>\n",
       "      <th>trust_score</th>\n",
       "      <th>trust_score_rank</th>\n",
       "      <th>trade_volume_24h_btc</th>\n",
       "    </tr>\n",
       "  </thead>\n",
       "  <tbody>\n",
       "    <tr>\n",
       "      <th>0</th>\n",
       "      <td>binance</td>\n",
       "      <td>Binance</td>\n",
       "      <td>2017</td>\n",
       "      <td>Cayman Islands</td>\n",
       "      <td>One of the world’s largest cryptocurrency exch...</td>\n",
       "      <td>https://www.binance.com/</td>\n",
       "      <td>https://coin-images.coingecko.com/markets/imag...</td>\n",
       "      <td>False</td>\n",
       "      <td>10</td>\n",
       "      <td>1</td>\n",
       "      <td>108174.298360</td>\n",
       "    </tr>\n",
       "    <tr>\n",
       "      <th>1</th>\n",
       "      <td>bybit_spot</td>\n",
       "      <td>Bybit</td>\n",
       "      <td>2018</td>\n",
       "      <td>British Virgin Islands</td>\n",
       "      <td>Bybit is the world’s second-largest cryptocurr...</td>\n",
       "      <td>https://www.bybit.com</td>\n",
       "      <td>https://coin-images.coingecko.com/markets/imag...</td>\n",
       "      <td>False</td>\n",
       "      <td>10</td>\n",
       "      <td>2</td>\n",
       "      <td>23308.164569</td>\n",
       "    </tr>\n",
       "    <tr>\n",
       "      <th>2</th>\n",
       "      <td>mxc</td>\n",
       "      <td>MEXC</td>\n",
       "      <td>2018</td>\n",
       "      <td>Seychelles</td>\n",
       "      <td>Established in April 2018, MEXC is one of the ...</td>\n",
       "      <td>https://www.mexc.com/</td>\n",
       "      <td>https://coin-images.coingecko.com/markets/imag...</td>\n",
       "      <td>False</td>\n",
       "      <td>10</td>\n",
       "      <td>3</td>\n",
       "      <td>23206.970726</td>\n",
       "    </tr>\n",
       "    <tr>\n",
       "      <th>3</th>\n",
       "      <td>gate</td>\n",
       "      <td>Gate</td>\n",
       "      <td>2013</td>\n",
       "      <td>Panama</td>\n",
       "      <td>Established in 2013, Gate is a cryptocurrency ...</td>\n",
       "      <td>https://www.gate.com</td>\n",
       "      <td>https://coin-images.coingecko.com/markets/imag...</td>\n",
       "      <td>False</td>\n",
       "      <td>10</td>\n",
       "      <td>4</td>\n",
       "      <td>21699.157418</td>\n",
       "    </tr>\n",
       "    <tr>\n",
       "      <th>4</th>\n",
       "      <td>bitget</td>\n",
       "      <td>Bitget</td>\n",
       "      <td>2018</td>\n",
       "      <td>Seychelles</td>\n",
       "      <td>Established in 2018, Bitget is the world's lea...</td>\n",
       "      <td>https://www.bitget.com/</td>\n",
       "      <td>https://coin-images.coingecko.com/markets/imag...</td>\n",
       "      <td>False</td>\n",
       "      <td>10</td>\n",
       "      <td>5</td>\n",
       "      <td>19603.058720</td>\n",
       "    </tr>\n",
       "  </tbody>\n",
       "</table>\n",
       "</div>"
      ],
      "text/plain": [
       "           id     name  year_established                 country  \\\n",
       "0     binance  Binance              2017          Cayman Islands   \n",
       "1  bybit_spot    Bybit              2018  British Virgin Islands   \n",
       "2         mxc     MEXC              2018              Seychelles   \n",
       "3        gate     Gate              2013                  Panama   \n",
       "4      bitget   Bitget              2018              Seychelles   \n",
       "\n",
       "                                         description  \\\n",
       "0  One of the world’s largest cryptocurrency exch...   \n",
       "1  Bybit is the world’s second-largest cryptocurr...   \n",
       "2  Established in April 2018, MEXC is one of the ...   \n",
       "3  Established in 2013, Gate is a cryptocurrency ...   \n",
       "4  Established in 2018, Bitget is the world's lea...   \n",
       "\n",
       "                        url  \\\n",
       "0  https://www.binance.com/   \n",
       "1     https://www.bybit.com   \n",
       "2     https://www.mexc.com/   \n",
       "3      https://www.gate.com   \n",
       "4   https://www.bitget.com/   \n",
       "\n",
       "                                               image  has_trading_incentive  \\\n",
       "0  https://coin-images.coingecko.com/markets/imag...                  False   \n",
       "1  https://coin-images.coingecko.com/markets/imag...                  False   \n",
       "2  https://coin-images.coingecko.com/markets/imag...                  False   \n",
       "3  https://coin-images.coingecko.com/markets/imag...                  False   \n",
       "4  https://coin-images.coingecko.com/markets/imag...                  False   \n",
       "\n",
       "   trust_score  trust_score_rank  trade_volume_24h_btc  \n",
       "0           10                 1         108174.298360  \n",
       "1           10                 2          23308.164569  \n",
       "2           10                 3          23206.970726  \n",
       "3           10                 4          21699.157418  \n",
       "4           10                 5          19603.058720  "
      ]
     },
     "execution_count": 167,
     "metadata": {},
     "output_type": "execute_result"
    }
   ],
   "source": [
    "exchanges_df = pd.DataFrame(payload)\n",
    "exchanges_df.head()"
   ]
  },
  {
   "cell_type": "code",
   "execution_count": 168,
   "id": "825c7d6e",
   "metadata": {},
   "outputs": [
    {
     "name": "stdout",
     "output_type": "stream",
     "text": [
      "<class 'pandas.core.frame.DataFrame'>\n",
      "RangeIndex: 50 entries, 0 to 49\n",
      "Data columns (total 9 columns):\n",
      " #   Column                Non-Null Count  Dtype  \n",
      "---  ------                --------------  -----  \n",
      " 0   exchange_id           50 non-null     object \n",
      " 1   name                  50 non-null     object \n",
      " 2   year_established      50 non-null     int64  \n",
      " 3   country               49 non-null     object \n",
      " 4   url                   50 non-null     object \n",
      " 5   image_url             50 non-null     object \n",
      " 6   trust_score           50 non-null     int64  \n",
      " 7   trust_score_rank      50 non-null     int64  \n",
      " 8   trade_volume_24h_btc  50 non-null     float64\n",
      "dtypes: float64(1), int64(3), object(5)\n",
      "memory usage: 3.6+ KB\n"
     ]
    }
   ],
   "source": [
    "exchanges_df = exchanges_df.drop(columns=['has_trading_incentive', 'description'], errors='ignore')\n",
    "exchanges_df = exchanges_df.round(5)\n",
    "\n",
    "exchanges_df.rename(columns={\"id\": \"exchange_id\", \"image\": \"image_url\"}, inplace=True)\n",
    "\n",
    "exchanges_df.info()"
   ]
  },
  {
   "cell_type": "markdown",
   "id": "69cc5a73",
   "metadata": {},
   "source": [
    "# LOAD"
   ]
  },
  {
   "cell_type": "code",
   "execution_count": 169,
   "id": "2116fdb8",
   "metadata": {},
   "outputs": [],
   "source": [
    "MYSQL_USER = os.getenv(\"MYSQL_USER\")\n",
    "MYSQL_PASSWORD = os.getenv(\"MYSQL_PASSWORD\")\n",
    "MYSQL_HOST = os.getenv(\"MYSQL_HOST\")\n",
    "MYSQL_PORT = os.getenv(\"MYSQL_PORT\")\n",
    "MYSQL_DB = os.getenv(\"MYSQL_DATABASE\")"
   ]
  },
  {
   "cell_type": "code",
   "execution_count": 170,
   "id": "1968803f",
   "metadata": {},
   "outputs": [
    {
     "name": "stdout",
     "output_type": "stream",
     "text": [
      "[SUCCESS] Connected to MySQL db localhost:3306/cryptodb as user root\n"
     ]
    }
   ],
   "source": [
    "db_conn = connector.connect(\n",
    "    host=MYSQL_HOST,\n",
    "    user=MYSQL_USER,\n",
    "    password=MYSQL_PASSWORD,\n",
    "    port=MYSQL_PORT,\n",
    "    database=MYSQL_DB,\n",
    "    connection_timeout=10,\n",
    "    autocommit=False,\n",
    "    raise_on_warnings=True\n",
    ")   \n",
    "\n",
    "db_cur = db_conn.cursor()\n",
    "print(f\"[SUCCESS] Connected to MySQL db {MYSQL_HOST}:{MYSQL_PORT}/{MYSQL_DB} as user {MYSQL_USER}\")"
   ]
  },
  {
   "cell_type": "code",
   "execution_count": 171,
   "id": "128779d4",
   "metadata": {},
   "outputs": [
    {
     "name": "stdout",
     "output_type": "stream",
     "text": [
      "[SUCCESS] Table 'exchanges' exists in database 'cryptodb'\n"
     ]
    }
   ],
   "source": [
    "sql_table = \"exchanges\"\n",
    "db_cur.execute(f\"SHOW TABLES LIKE '{sql_table}'\")\n",
    "\n",
    "if db_cur.fetchone() is None:\n",
    "    raise SystemExit(f\"[ERROR] Table '{sql_table}' does not exist in database '{MYSQL_DB}'\")\n",
    "else:\n",
    "    print(f\"[SUCCESS] Table '{sql_table}' exists in database '{MYSQL_DB}'\")"
   ]
  },
  {
   "cell_type": "code",
   "execution_count": 172,
   "id": "d9671cb3",
   "metadata": {},
   "outputs": [],
   "source": [
    "UPSERT_SQL = f\"\"\"\n",
    "INSERT INTO {sql_table} (\n",
    "    exchange_id, name, year_established, country, url, \n",
    "    image_url, trust_score, trust_score_rank, trade_volume_24h_btc\n",
    ")\n",
    "VALUES (\n",
    "    %s, %s, %s, %s, %s,\n",
    "    %s, %s, %s, %s\n",
    ") AS src\n",
    "ON DUPLICATE KEY UPDATE\n",
    "    exchange_id = src.exchange_id,\n",
    "    name = src.name, \n",
    "    year_established = src.year_established,\n",
    "    country = src.country,\n",
    "    url = src.url, \n",
    "    image_url = src.image_url,\n",
    "    trust_score = src.trust_score, \n",
    "    trust_score_rank = src. trust_score_rank, \n",
    "    trade_volume_24h_btc = src.trade_volume_24h_btc\n",
    "\"\"\""
   ]
  },
  {
   "cell_type": "code",
   "execution_count": 173,
   "id": "d685f4be",
   "metadata": {},
   "outputs": [
    {
     "name": "stdout",
     "output_type": "stream",
     "text": [
      "[SUCCESS] Upserted 99 records into table 'exchanges'\n",
      "[INFO] MySQL connection closed\n"
     ]
    }
   ],
   "source": [
    "exchanges_list = exchanges_df.values.tolist()\n",
    "\n",
    "try:\n",
    "    db_cur.executemany(UPSERT_SQL, exchanges_list)\n",
    "    db_conn.commit()\n",
    "    print(f\"[SUCCESS] Upserted {db_cur.rowcount} records into table '{sql_table}'\")\n",
    "except connector.Error as err:\n",
    "    db_conn.rollback()\n",
    "    print(f\"[ERROR] Failed to upsert records into table '{sql_table}': {err}\")\n",
    "finally:\n",
    "    db_cur.close()\n",
    "    db_conn.close()\n",
    "    print(\"[INFO] MySQL connection closed\")"
   ]
  }
 ],
 "metadata": {
  "kernelspec": {
   "display_name": "crypto-etl-venv (3.10.12)",
   "language": "python",
   "name": "python3"
  },
  "language_info": {
   "codemirror_mode": {
    "name": "ipython",
    "version": 3
   },
   "file_extension": ".py",
   "mimetype": "text/x-python",
   "name": "python",
   "nbconvert_exporter": "python",
   "pygments_lexer": "ipython3",
   "version": "3.10.12"
  }
 },
 "nbformat": 4,
 "nbformat_minor": 5
}
