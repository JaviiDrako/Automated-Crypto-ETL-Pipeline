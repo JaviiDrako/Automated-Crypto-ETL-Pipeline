{
 "cells": [
  {
   "cell_type": "code",
   "execution_count": 274,
   "id": "9330033e",
   "metadata": {},
   "outputs": [],
   "source": [
    "import os\n",
    "import json\n",
    "import requests\n",
    "import pandas as pd\n",
    "from mysql import connector\n",
    "from dotenv import load_dotenv\n",
    "import numpy as np\n",
    "from datetime import datetime\n"
   ]
  },
  {
   "cell_type": "code",
   "execution_count": 275,
   "id": "ebe1946d",
   "metadata": {},
   "outputs": [
    {
     "name": "stdout",
     "output_type": "stream",
     "text": [
      "{'vs_currency': 'usd', 'days': 90}\n"
     ]
    }
   ],
   "source": [
    "coins = ['bitcoin', 'solana']\n",
    "\n",
    "load_dotenv()\n",
    "\n",
    "url_base = \"https://api.coingecko.com/api/v3/coins/\"\n",
    "days = 90\n",
    "params = {\n",
    "    \"vs_currency\": \"usd\",\n",
    "    \"days\": days\n",
    "}\n",
    "\n",
    "print(params)"
   ]
  },
  {
   "cell_type": "markdown",
   "id": "ae70e1e0",
   "metadata": {},
   "source": [
    "# EXTRACT"
   ]
  },
  {
   "cell_type": "code",
   "execution_count": 297,
   "id": "1b140500",
   "metadata": {},
   "outputs": [],
   "source": [
    "payloads = []\n",
    "\n",
    "\n",
    "for idx, coin in enumerate(coins):\n",
    "    url = f\"{url_base}{coin}/market_chart\"\n",
    "    response = requests.get(url, params=params)\n",
    "    payloads.append(response.json())\n",
    "    \n",
    "formatted_response = json.dumps(payloads, indent=4)"
   ]
  },
  {
   "cell_type": "markdown",
   "id": "ec4d98e7",
   "metadata": {},
   "source": [
    "# TRANSFORM"
   ]
  },
  {
   "cell_type": "code",
   "execution_count": 277,
   "id": "2e536bb5",
   "metadata": {},
   "outputs": [
    {
     "data": {
      "text/html": [
       "<div>\n",
       "<style scoped>\n",
       "    .dataframe tbody tr th:only-of-type {\n",
       "        vertical-align: middle;\n",
       "    }\n",
       "\n",
       "    .dataframe tbody tr th {\n",
       "        vertical-align: top;\n",
       "    }\n",
       "\n",
       "    .dataframe thead th {\n",
       "        text-align: right;\n",
       "    }\n",
       "</style>\n",
       "<table border=\"1\" class=\"dataframe\">\n",
       "  <thead>\n",
       "    <tr style=\"text-align: right;\">\n",
       "      <th></th>\n",
       "      <th>prices</th>\n",
       "      <th>market_caps</th>\n",
       "      <th>total_volumes</th>\n",
       "    </tr>\n",
       "  </thead>\n",
       "  <tbody>\n",
       "    <tr>\n",
       "      <th>0</th>\n",
       "      <td>[[1750554199810, 102949.09073657315], [1750557...</td>\n",
       "      <td>[[1750554199810, 2047973961516.251], [17505578...</td>\n",
       "      <td>[[1750554199810, 25534220303.202923], [1750557...</td>\n",
       "    </tr>\n",
       "    <tr>\n",
       "      <th>1</th>\n",
       "      <td>[[1750554199301, 136.88048778730024], [1750557...</td>\n",
       "      <td>[[1750554199301, 72729456819.55728], [17505578...</td>\n",
       "      <td>[[1750554199301, 4291376810.0359163], [1750557...</td>\n",
       "    </tr>\n",
       "  </tbody>\n",
       "</table>\n",
       "</div>"
      ],
      "text/plain": [
       "                                              prices  \\\n",
       "0  [[1750554199810, 102949.09073657315], [1750557...   \n",
       "1  [[1750554199301, 136.88048778730024], [1750557...   \n",
       "\n",
       "                                         market_caps  \\\n",
       "0  [[1750554199810, 2047973961516.251], [17505578...   \n",
       "1  [[1750554199301, 72729456819.55728], [17505578...   \n",
       "\n",
       "                                       total_volumes  \n",
       "0  [[1750554199810, 25534220303.202923], [1750557...  \n",
       "1  [[1750554199301, 4291376810.0359163], [1750557...  "
      ]
     },
     "execution_count": 277,
     "metadata": {},
     "output_type": "execute_result"
    }
   ],
   "source": [
    "market_history_df1 = pd.DataFrame(payloads)\n",
    "market_history_df1"
   ]
  },
  {
   "cell_type": "code",
   "execution_count": 278,
   "id": "3d343709",
   "metadata": {},
   "outputs": [
    {
     "name": "stdout",
     "output_type": "stream",
     "text": [
      "[   0    8   16   24   32   40   48   56   64   72   80   88   96  104\n",
      "  112  120  128  136  144  152  160  168  176  184  192  200  208  216\n",
      "  224  232  240  248  256  264  272  280  288  296  304  313  321  329\n",
      "  337  345  353  361  369  377  385  393  401  409  417  425  433  441\n",
      "  449  457  465  473  481  489  497  505  513  521  529  537  545  553\n",
      "  561  569  577  585  593  601  609  618  626  634  642  650  658  666\n",
      "  674  682  690  698  706  714  722  730  738  746  754  762  770  778\n",
      "  786  794  802  810  818  826  834  842  850  858  866  874  882  890\n",
      "  898  906  914  922  931  939  947  955  963  971  979  987  995 1003\n",
      " 1011 1019 1027 1035 1043 1051 1059 1067 1075 1083 1091 1099 1107 1115\n",
      " 1123 1131 1139 1147 1155 1163 1171 1179 1187 1195 1203 1211 1219 1227\n",
      " 1236 1244 1252 1260 1268 1276 1284 1292 1300 1308 1316 1324 1332 1340\n",
      " 1348 1356 1364 1372 1380 1388 1396 1404 1412 1420 1428 1436 1444 1452\n",
      " 1460 1468 1476 1484 1492 1500 1508 1516 1524 1532 1540 1549 1557 1565\n",
      " 1573 1581 1589 1597 1605 1613 1621 1629 1637 1645 1653 1661 1669 1677\n",
      " 1685 1693 1701 1709 1717 1725 1733 1741 1749 1757 1765 1773 1781 1789\n",
      " 1797 1805 1813 1821 1829 1837 1845 1854 1862 1870 1878 1886 1894 1902\n",
      " 1910 1918 1926 1934 1942 1950 1958 1966 1974 1982 1990 1998 2006 2014\n",
      " 2022 2030 2038 2046 2054 2062 2070 2078 2086 2094 2102 2110 2118 2126\n",
      " 2134 2142 2150 2159]\n",
      "[   0    8   16   24   32   40   48   56   64   72   80   88   96  104\n",
      "  112  120  128  136  144  152  160  168  176  184  192  200  208  216\n",
      "  224  232  240  248  256  264  272  280  288  296  304  313  321  329\n",
      "  337  345  353  361  369  377  385  393  401  409  417  425  433  441\n",
      "  449  457  465  473  481  489  497  505  513  521  529  537  545  553\n",
      "  561  569  577  585  593  601  609  618  626  634  642  650  658  666\n",
      "  674  682  690  698  706  714  722  730  738  746  754  762  770  778\n",
      "  786  794  802  810  818  826  834  842  850  858  866  874  882  890\n",
      "  898  906  914  922  931  939  947  955  963  971  979  987  995 1003\n",
      " 1011 1019 1027 1035 1043 1051 1059 1067 1075 1083 1091 1099 1107 1115\n",
      " 1123 1131 1139 1147 1155 1163 1171 1179 1187 1195 1203 1211 1219 1227\n",
      " 1236 1244 1252 1260 1268 1276 1284 1292 1300 1308 1316 1324 1332 1340\n",
      " 1348 1356 1364 1372 1380 1388 1396 1404 1412 1420 1428 1436 1444 1452\n",
      " 1460 1468 1476 1484 1492 1500 1508 1516 1524 1532 1540 1549 1557 1565\n",
      " 1573 1581 1589 1597 1605 1613 1621 1629 1637 1645 1653 1661 1669 1677\n",
      " 1685 1693 1701 1709 1717 1725 1733 1741 1749 1757 1765 1773 1781 1789\n",
      " 1797 1805 1813 1821 1829 1837 1845 1854 1862 1870 1878 1886 1894 1902\n",
      " 1910 1918 1926 1934 1942 1950 1958 1966 1974 1982 1990 1998 2006 2014\n",
      " 2022 2030 2038 2046 2054 2062 2070 2078 2086 2094 2102 2110 2118 2126\n",
      " 2134 2142 2150 2159]\n"
     ]
    },
    {
     "data": {
      "text/html": [
       "<div>\n",
       "<style scoped>\n",
       "    .dataframe tbody tr th:only-of-type {\n",
       "        vertical-align: middle;\n",
       "    }\n",
       "\n",
       "    .dataframe tbody tr th {\n",
       "        vertical-align: top;\n",
       "    }\n",
       "\n",
       "    .dataframe thead th {\n",
       "        text-align: right;\n",
       "    }\n",
       "</style>\n",
       "<table border=\"1\" class=\"dataframe\">\n",
       "  <thead>\n",
       "    <tr style=\"text-align: right;\">\n",
       "      <th></th>\n",
       "      <th>coin_id</th>\n",
       "      <th>timestamp</th>\n",
       "      <th>price</th>\n",
       "      <th>market_cap</th>\n",
       "      <th>volume</th>\n",
       "    </tr>\n",
       "  </thead>\n",
       "  <tbody>\n",
       "    <tr>\n",
       "      <th>0</th>\n",
       "      <td>bitcoin</td>\n",
       "      <td>2025-06-21 21:03:19.810</td>\n",
       "      <td>102949.09074</td>\n",
       "      <td>2.047974e+12</td>\n",
       "      <td>2.553422e+10</td>\n",
       "    </tr>\n",
       "    <tr>\n",
       "      <th>1</th>\n",
       "      <td>bitcoin</td>\n",
       "      <td>2025-06-22 05:03:11.990</td>\n",
       "      <td>102653.05717</td>\n",
       "      <td>2.039764e+12</td>\n",
       "      <td>3.072199e+10</td>\n",
       "    </tr>\n",
       "    <tr>\n",
       "      <th>2</th>\n",
       "      <td>bitcoin</td>\n",
       "      <td>2025-06-22 13:03:44.309</td>\n",
       "      <td>99518.50794</td>\n",
       "      <td>1.977044e+12</td>\n",
       "      <td>4.965522e+10</td>\n",
       "    </tr>\n",
       "    <tr>\n",
       "      <th>3</th>\n",
       "      <td>bitcoin</td>\n",
       "      <td>2025-06-22 21:03:32.448</td>\n",
       "      <td>101095.57550</td>\n",
       "      <td>2.012897e+12</td>\n",
       "      <td>4.963503e+10</td>\n",
       "    </tr>\n",
       "    <tr>\n",
       "      <th>4</th>\n",
       "      <td>bitcoin</td>\n",
       "      <td>2025-06-23 05:03:42.449</td>\n",
       "      <td>101885.85927</td>\n",
       "      <td>2.025801e+12</td>\n",
       "      <td>4.930648e+10</td>\n",
       "    </tr>\n",
       "    <tr>\n",
       "      <th>...</th>\n",
       "      <td>...</td>\n",
       "      <td>...</td>\n",
       "      <td>...</td>\n",
       "      <td>...</td>\n",
       "      <td>...</td>\n",
       "    </tr>\n",
       "    <tr>\n",
       "      <th>535</th>\n",
       "      <td>solana</td>\n",
       "      <td>2025-09-18 12:00:52.654</td>\n",
       "      <td>248.44757</td>\n",
       "      <td>1.349469e+11</td>\n",
       "      <td>1.210724e+10</td>\n",
       "    </tr>\n",
       "    <tr>\n",
       "      <th>536</th>\n",
       "      <td>solana</td>\n",
       "      <td>2025-09-18 20:01:45.733</td>\n",
       "      <td>247.59944</td>\n",
       "      <td>1.344311e+11</td>\n",
       "      <td>9.510189e+09</td>\n",
       "    </tr>\n",
       "    <tr>\n",
       "      <th>537</th>\n",
       "      <td>solana</td>\n",
       "      <td>2025-09-19 04:02:09.693</td>\n",
       "      <td>244.11601</td>\n",
       "      <td>1.326490e+11</td>\n",
       "      <td>9.091177e+09</td>\n",
       "    </tr>\n",
       "    <tr>\n",
       "      <th>538</th>\n",
       "      <td>solana</td>\n",
       "      <td>2025-09-19 12:01:36.829</td>\n",
       "      <td>237.77728</td>\n",
       "      <td>1.291426e+11</td>\n",
       "      <td>9.165780e+09</td>\n",
       "    </tr>\n",
       "    <tr>\n",
       "      <th>539</th>\n",
       "      <td>solana</td>\n",
       "      <td>2025-09-19 20:56:55.000</td>\n",
       "      <td>239.58537</td>\n",
       "      <td>1.300590e+11</td>\n",
       "      <td>7.535171e+09</td>\n",
       "    </tr>\n",
       "  </tbody>\n",
       "</table>\n",
       "<p>540 rows × 5 columns</p>\n",
       "</div>"
      ],
      "text/plain": [
       "     coin_id               timestamp         price    market_cap        volume\n",
       "0    bitcoin 2025-06-21 21:03:19.810  102949.09074  2.047974e+12  2.553422e+10\n",
       "1    bitcoin 2025-06-22 05:03:11.990  102653.05717  2.039764e+12  3.072199e+10\n",
       "2    bitcoin 2025-06-22 13:03:44.309   99518.50794  1.977044e+12  4.965522e+10\n",
       "3    bitcoin 2025-06-22 21:03:32.448  101095.57550  2.012897e+12  4.963503e+10\n",
       "4    bitcoin 2025-06-23 05:03:42.449  101885.85927  2.025801e+12  4.930648e+10\n",
       "..       ...                     ...           ...           ...           ...\n",
       "535   solana 2025-09-18 12:00:52.654     248.44757  1.349469e+11  1.210724e+10\n",
       "536   solana 2025-09-18 20:01:45.733     247.59944  1.344311e+11  9.510189e+09\n",
       "537   solana 2025-09-19 04:02:09.693     244.11601  1.326490e+11  9.091177e+09\n",
       "538   solana 2025-09-19 12:01:36.829     237.77728  1.291426e+11  9.165780e+09\n",
       "539   solana 2025-09-19 20:56:55.000     239.58537  1.300590e+11  7.535171e+09\n",
       "\n",
       "[540 rows x 5 columns]"
      ]
     },
     "execution_count": 278,
     "metadata": {},
     "output_type": "execute_result"
    }
   ],
   "source": [
    "def prepare_market_history_records(coin_id, market_chart_data, sample_size=(3 * days)):\n",
    "    rows = []\n",
    "    total_records = len(market_chart_data['prices'])\n",
    "    indices = np.linspace(0, total_records - 1, sample_size)\n",
    "    indices = np.floor(indices).astype(int)\n",
    "\n",
    "    print(indices)\n",
    "\n",
    "    for i in indices:\n",
    "        timestamp_ms = market_chart_data['prices'][i][0]\n",
    "        timestamp = datetime.fromtimestamp(timestamp_ms / 1000)\n",
    "\n",
    "        price = round(market_chart_data['prices'][i][1], 5)\n",
    "        market_cap = round(market_chart_data['market_caps'][i][1], 5)\n",
    "        volume = round(market_chart_data['total_volumes'][i][1], 5)\n",
    "\n",
    "        row = {\n",
    "            'coin_id': coin_id,\n",
    "            'timestamp': timestamp,\n",
    "            'price': price,\n",
    "            'market_cap': market_cap,\n",
    "            'volume': volume\n",
    "        }\n",
    "        rows.append(row)\n",
    "\n",
    "    return rows\n",
    "\n",
    "fixed_payload = []\n",
    "for idx, coin in enumerate(coins):\n",
    "    fixed_payload.extend(prepare_market_history_records(coin, payloads[idx]))\n",
    "\n",
    "market_history_df = pd.DataFrame(fixed_payload)\n",
    "market_history_df\n"
   ]
  },
  {
   "cell_type": "markdown",
   "id": "93a4372b",
   "metadata": {},
   "source": [
    "# LOAD"
   ]
  },
  {
   "cell_type": "code",
   "execution_count": 291,
   "id": "8482c261",
   "metadata": {},
   "outputs": [],
   "source": [
    "MYSQL_USER = os.getenv(\"MYSQL_USER\")\n",
    "MYSQL_PASSWORD = os.getenv(\"MYSQL_PASSWORD\")\n",
    "MYSQL_HOST = os.getenv(\"MYSQL_HOST\")\n",
    "MYSQL_PORT = os.getenv(\"MYSQL_PORT\")\n",
    "MYSQL_DB = os.getenv(\"MYSQL_DATABASE\")"
   ]
  },
  {
   "cell_type": "code",
   "execution_count": 292,
   "id": "312a783e",
   "metadata": {},
   "outputs": [
    {
     "name": "stdout",
     "output_type": "stream",
     "text": [
      "[SUCCESS] Connected to MySQL db localhost:3306/cryptodb as user root\n"
     ]
    }
   ],
   "source": [
    "db_conn = connector.connect(\n",
    "    host=MYSQL_HOST,\n",
    "    user=MYSQL_USER,\n",
    "    password=MYSQL_PASSWORD,\n",
    "    port=MYSQL_PORT,\n",
    "    database=MYSQL_DB,\n",
    "    connection_timeout=10,\n",
    "    autocommit=False,\n",
    "    raise_on_warnings=True\n",
    ")   \n",
    "\n",
    "db_cur = db_conn.cursor()\n",
    "print(f\"[SUCCESS] Connected to MySQL db {MYSQL_HOST}:{MYSQL_PORT}/{MYSQL_DB} as user {MYSQL_USER}\")"
   ]
  },
  {
   "cell_type": "code",
   "execution_count": 293,
   "id": "4645b14d",
   "metadata": {},
   "outputs": [
    {
     "name": "stdout",
     "output_type": "stream",
     "text": [
      "[SUCCESS] Table 'market_history' exists in database 'cryptodb'\n"
     ]
    }
   ],
   "source": [
    "sql_table = \"market_history\"\n",
    "db_cur.execute(f\"SHOW TABLES LIKE '{sql_table}'\")\n",
    "\n",
    "if db_cur.fetchone() is None:\n",
    "    raise SystemExit(f\"[ERROR] Table '{sql_table}' does not exist in database '{MYSQL_DB}'\")\n",
    "else:\n",
    "    print(f\"[SUCCESS] Table '{sql_table}' exists in database '{MYSQL_DB}'\")"
   ]
  },
  {
   "cell_type": "code",
   "execution_count": 294,
   "id": "8132af2f",
   "metadata": {},
   "outputs": [],
   "source": [
    "INSERT_SQL = \"\"\"\n",
    "INSERT INTO market_history (\n",
    "    coin_id, timestamp, price, market_cap, volume\n",
    ") VALUES (\n",
    "    %s, %s, %s, %s, %s\n",
    ")\n",
    "\"\"\""
   ]
  },
  {
   "cell_type": "code",
   "execution_count": 295,
   "id": "da77e62b",
   "metadata": {},
   "outputs": [],
   "source": [
    "market_history_list = market_history_df.values.tolist()"
   ]
  },
  {
   "cell_type": "code",
   "execution_count": 296,
   "id": "8fb39df4",
   "metadata": {},
   "outputs": [
    {
     "name": "stdout",
     "output_type": "stream",
     "text": [
      "[SUCCESS] Upserted 540 records into table 'market_history'\n",
      "[INFO] MySQL connection closed\n"
     ]
    }
   ],
   "source": [
    "try:\n",
    "    db_cur.executemany(INSERT_SQL, market_history_list)\n",
    "    db_conn.commit()\n",
    "    print(f\"[SUCCESS] Upserted {db_cur.rowcount} records into table '{sql_table}'\")\n",
    "except connector.Error as err:\n",
    "    db_conn.rollback()\n",
    "    print(f\"[ERROR] Failed to upsert records into table '{sql_table}': {err}\")\n",
    "finally:\n",
    "    db_cur.close()\n",
    "    db_conn.close()\n",
    "    print(\"[INFO] MySQL connection closed\")"
   ]
  }
 ],
 "metadata": {
  "kernelspec": {
   "display_name": "crypto-etl-venv (3.10.12)",
   "language": "python",
   "name": "python3"
  },
  "language_info": {
   "codemirror_mode": {
    "name": "ipython",
    "version": 3
   },
   "file_extension": ".py",
   "mimetype": "text/x-python",
   "name": "python",
   "nbconvert_exporter": "python",
   "pygments_lexer": "ipython3",
   "version": "3.10.12"
  }
 },
 "nbformat": 4,
 "nbformat_minor": 5
}
