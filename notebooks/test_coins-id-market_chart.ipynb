{
 "cells": [
  {
   "cell_type": "code",
   "execution_count": 12,
   "id": "9330033e",
   "metadata": {},
   "outputs": [],
   "source": [
    "import os\n",
    "import json\n",
    "import requests\n",
    "import pandas as pd\n",
    "from mysql import connector\n",
    "from dotenv import load_dotenv\n",
    "import numpy as np\n",
    "from datetime import datetime"
   ]
  },
  {
   "cell_type": "code",
   "execution_count": 13,
   "id": "ebe1946d",
   "metadata": {},
   "outputs": [
    {
     "name": "stdout",
     "output_type": "stream",
     "text": [
      "{'vs_currency': 'usd', 'days': 90}\n"
     ]
    }
   ],
   "source": [
    "coins = ['bitcoin', 'solana']\n",
    "\n",
    "load_dotenv()\n",
    "\n",
    "url_base = \"https://api.coingecko.com/api/v3/coins/\"\n",
    "days = 90\n",
    "params = {\n",
    "    \"vs_currency\": \"usd\",\n",
    "    \"days\": days\n",
    "}\n",
    "\n",
    "print(params)"
   ]
  },
  {
   "cell_type": "markdown",
   "id": "ae70e1e0",
   "metadata": {},
   "source": [
    "# EXTRACT"
   ]
  },
  {
   "cell_type": "code",
   "execution_count": 14,
   "id": "1b140500",
   "metadata": {},
   "outputs": [],
   "source": [
    "payloads = []\n",
    "\n",
    "\n",
    "for idx, coin in enumerate(coins):\n",
    "    url = f\"{url_base}{coin}/market_chart\"\n",
    "    response = requests.get(url, params=params)\n",
    "    payloads.append(response.json())\n",
    "    \n",
    "formatted_response = json.dumps(payloads, indent=4)"
   ]
  },
  {
   "cell_type": "markdown",
   "id": "ec4d98e7",
   "metadata": {},
   "source": [
    "# TRANSFORM"
   ]
  },
  {
   "cell_type": "code",
   "execution_count": 15,
   "id": "2e536bb5",
   "metadata": {},
   "outputs": [
    {
     "data": {
      "text/html": [
       "<div>\n",
       "<style scoped>\n",
       "    .dataframe tbody tr th:only-of-type {\n",
       "        vertical-align: middle;\n",
       "    }\n",
       "\n",
       "    .dataframe tbody tr th {\n",
       "        vertical-align: top;\n",
       "    }\n",
       "\n",
       "    .dataframe thead th {\n",
       "        text-align: right;\n",
       "    }\n",
       "</style>\n",
       "<table border=\"1\" class=\"dataframe\">\n",
       "  <thead>\n",
       "    <tr style=\"text-align: right;\">\n",
       "      <th></th>\n",
       "      <th>prices</th>\n",
       "      <th>market_caps</th>\n",
       "      <th>total_volumes</th>\n",
       "    </tr>\n",
       "  </thead>\n",
       "  <tbody>\n",
       "    <tr>\n",
       "      <th>0</th>\n",
       "      <td>[[1750622502869, 98974.66955517934], [17506262...</td>\n",
       "      <td>[[1750622502869, 1968213638158.506], [17506262...</td>\n",
       "      <td>[[1750622502869, 50491854369.96073], [17506262...</td>\n",
       "    </tr>\n",
       "    <tr>\n",
       "      <th>1</th>\n",
       "      <td>[[1750619023228, 129.5829927773754], [17506226...</td>\n",
       "      <td>[[1750619023228, 69044181624.81702], [17506226...</td>\n",
       "      <td>[[1750619023228, 6271208738.884609], [17506226...</td>\n",
       "    </tr>\n",
       "  </tbody>\n",
       "</table>\n",
       "</div>"
      ],
      "text/plain": [
       "                                              prices  \\\n",
       "0  [[1750622502869, 98974.66955517934], [17506262...   \n",
       "1  [[1750619023228, 129.5829927773754], [17506226...   \n",
       "\n",
       "                                         market_caps  \\\n",
       "0  [[1750622502869, 1968213638158.506], [17506262...   \n",
       "1  [[1750619023228, 69044181624.81702], [17506226...   \n",
       "\n",
       "                                       total_volumes  \n",
       "0  [[1750622502869, 50491854369.96073], [17506262...  \n",
       "1  [[1750619023228, 6271208738.884609], [17506226...  "
      ]
     },
     "execution_count": 15,
     "metadata": {},
     "output_type": "execute_result"
    }
   ],
   "source": [
    "market_history_df1 = pd.DataFrame(payloads)\n",
    "market_history_df1"
   ]
  },
  {
   "cell_type": "code",
   "execution_count": 16,
   "id": "3d343709",
   "metadata": {},
   "outputs": [
    {
     "name": "stdout",
     "output_type": "stream",
     "text": [
      "[   0    8   16   24   32   40   48   56   64   72   80   88   96  104\n",
      "  112  120  128  136  144  152  160  168  176  184  192  200  208  216\n",
      "  224  232  240  248  256  264  272  280  288  296  304  313  321  329\n",
      "  337  345  353  361  369  377  385  393  401  409  417  425  433  441\n",
      "  449  457  465  473  481  489  497  505  513  521  529  537  545  553\n",
      "  561  569  577  585  593  601  609  618  626  634  642  650  658  666\n",
      "  674  682  690  698  706  714  722  730  738  746  754  762  770  778\n",
      "  786  794  802  810  818  826  834  842  850  858  866  874  882  890\n",
      "  898  906  914  922  931  939  947  955  963  971  979  987  995 1003\n",
      " 1011 1019 1027 1035 1043 1051 1059 1067 1075 1083 1091 1099 1107 1115\n",
      " 1123 1131 1139 1147 1155 1163 1171 1179 1187 1195 1203 1211 1219 1227\n",
      " 1236 1244 1252 1260 1268 1276 1284 1292 1300 1308 1316 1324 1332 1340\n",
      " 1348 1356 1364 1372 1380 1388 1396 1404 1412 1420 1428 1436 1444 1452\n",
      " 1460 1468 1476 1484 1492 1500 1508 1516 1524 1532 1540 1549 1557 1565\n",
      " 1573 1581 1589 1597 1605 1613 1621 1629 1637 1645 1653 1661 1669 1677\n",
      " 1685 1693 1701 1709 1717 1725 1733 1741 1749 1757 1765 1773 1781 1789\n",
      " 1797 1805 1813 1821 1829 1837 1845 1854 1862 1870 1878 1886 1894 1902\n",
      " 1910 1918 1926 1934 1942 1950 1958 1966 1974 1982 1990 1998 2006 2014\n",
      " 2022 2030 2038 2046 2054 2062 2070 2078 2086 2094 2102 2110 2118 2126\n",
      " 2134 2142 2150 2159]\n",
      "[   0    8   16   24   32   40   48   56   64   72   80   88   96  104\n",
      "  112  120  128  136  144  152  160  168  176  184  192  200  208  216\n",
      "  224  232  240  248  256  264  272  280  288  296  304  313  321  329\n",
      "  337  345  353  361  369  377  385  393  401  409  417  425  433  441\n",
      "  449  457  465  473  481  489  497  505  513  521  529  537  545  553\n",
      "  561  569  577  585  593  601  609  618  626  634  642  650  658  666\n",
      "  674  682  690  698  706  714  722  730  738  746  754  762  770  778\n",
      "  786  794  802  810  818  826  834  842  850  858  866  874  882  890\n",
      "  898  906  914  922  931  939  947  955  963  971  979  987  995 1003\n",
      " 1011 1019 1027 1035 1043 1051 1059 1067 1075 1083 1091 1099 1107 1115\n",
      " 1123 1131 1139 1147 1155 1163 1171 1179 1187 1195 1203 1211 1219 1227\n",
      " 1236 1244 1252 1260 1268 1276 1284 1292 1300 1308 1316 1324 1332 1340\n",
      " 1348 1356 1364 1372 1380 1388 1396 1404 1412 1420 1428 1436 1444 1452\n",
      " 1460 1468 1476 1484 1492 1500 1508 1516 1524 1532 1540 1549 1557 1565\n",
      " 1573 1581 1589 1597 1605 1613 1621 1629 1637 1645 1653 1661 1669 1677\n",
      " 1685 1693 1701 1709 1717 1725 1733 1741 1749 1757 1765 1773 1781 1789\n",
      " 1797 1805 1813 1821 1829 1837 1845 1854 1862 1870 1878 1886 1894 1902\n",
      " 1910 1918 1926 1934 1942 1950 1958 1966 1974 1982 1990 1998 2006 2014\n",
      " 2022 2030 2038 2046 2054 2062 2070 2078 2086 2094 2102 2110 2118 2126\n",
      " 2134 2142 2150 2159]\n"
     ]
    },
    {
     "data": {
      "text/html": [
       "<div>\n",
       "<style scoped>\n",
       "    .dataframe tbody tr th:only-of-type {\n",
       "        vertical-align: middle;\n",
       "    }\n",
       "\n",
       "    .dataframe tbody tr th {\n",
       "        vertical-align: top;\n",
       "    }\n",
       "\n",
       "    .dataframe thead th {\n",
       "        text-align: right;\n",
       "    }\n",
       "</style>\n",
       "<table border=\"1\" class=\"dataframe\">\n",
       "  <thead>\n",
       "    <tr style=\"text-align: right;\">\n",
       "      <th></th>\n",
       "      <th>coin_id</th>\n",
       "      <th>timestamp</th>\n",
       "      <th>price</th>\n",
       "      <th>market_cap</th>\n",
       "      <th>volume</th>\n",
       "    </tr>\n",
       "  </thead>\n",
       "  <tbody>\n",
       "    <tr>\n",
       "      <th>0</th>\n",
       "      <td>bitcoin</td>\n",
       "      <td>2025-06-22 16:01:42.869</td>\n",
       "      <td>98974.66956</td>\n",
       "      <td>1.968214e+12</td>\n",
       "      <td>5.049185e+10</td>\n",
       "    </tr>\n",
       "    <tr>\n",
       "      <th>1</th>\n",
       "      <td>bitcoin</td>\n",
       "      <td>2025-06-23 00:01:16.368</td>\n",
       "      <td>101156.79007</td>\n",
       "      <td>2.011306e+12</td>\n",
       "      <td>4.715282e+10</td>\n",
       "    </tr>\n",
       "    <tr>\n",
       "      <th>2</th>\n",
       "      <td>bitcoin</td>\n",
       "      <td>2025-06-23 08:03:35.773</td>\n",
       "      <td>101326.14380</td>\n",
       "      <td>2.014705e+12</td>\n",
       "      <td>4.971918e+10</td>\n",
       "    </tr>\n",
       "    <tr>\n",
       "      <th>3</th>\n",
       "      <td>bitcoin</td>\n",
       "      <td>2025-06-23 16:03:32.495</td>\n",
       "      <td>103124.54388</td>\n",
       "      <td>2.048099e+12</td>\n",
       "      <td>4.180687e+10</td>\n",
       "    </tr>\n",
       "    <tr>\n",
       "      <th>4</th>\n",
       "      <td>bitcoin</td>\n",
       "      <td>2025-06-24 00:03:24.192</td>\n",
       "      <td>105013.07163</td>\n",
       "      <td>2.087557e+12</td>\n",
       "      <td>5.048241e+10</td>\n",
       "    </tr>\n",
       "    <tr>\n",
       "      <th>...</th>\n",
       "      <td>...</td>\n",
       "      <td>...</td>\n",
       "      <td>...</td>\n",
       "      <td>...</td>\n",
       "      <td>...</td>\n",
       "    </tr>\n",
       "    <tr>\n",
       "      <th>535</th>\n",
       "      <td>solana</td>\n",
       "      <td>2025-09-19 06:02:50.308</td>\n",
       "      <td>242.71725</td>\n",
       "      <td>1.317810e+11</td>\n",
       "      <td>8.952154e+09</td>\n",
       "    </tr>\n",
       "    <tr>\n",
       "      <th>536</th>\n",
       "      <td>solana</td>\n",
       "      <td>2025-09-19 14:02:43.917</td>\n",
       "      <td>236.97963</td>\n",
       "      <td>1.286921e+11</td>\n",
       "      <td>8.174008e+09</td>\n",
       "    </tr>\n",
       "    <tr>\n",
       "      <th>537</th>\n",
       "      <td>solana</td>\n",
       "      <td>2025-09-19 22:02:35.976</td>\n",
       "      <td>238.68951</td>\n",
       "      <td>1.296621e+11</td>\n",
       "      <td>7.713996e+09</td>\n",
       "    </tr>\n",
       "    <tr>\n",
       "      <th>538</th>\n",
       "      <td>solana</td>\n",
       "      <td>2025-09-20 06:02:59.527</td>\n",
       "      <td>237.65302</td>\n",
       "      <td>1.290728e+11</td>\n",
       "      <td>6.200602e+09</td>\n",
       "    </tr>\n",
       "    <tr>\n",
       "      <th>539</th>\n",
       "      <td>solana</td>\n",
       "      <td>2025-09-20 15:19:24.000</td>\n",
       "      <td>238.75262</td>\n",
       "      <td>1.296236e+11</td>\n",
       "      <td>4.184540e+09</td>\n",
       "    </tr>\n",
       "  </tbody>\n",
       "</table>\n",
       "<p>540 rows × 5 columns</p>\n",
       "</div>"
      ],
      "text/plain": [
       "     coin_id               timestamp         price    market_cap        volume\n",
       "0    bitcoin 2025-06-22 16:01:42.869   98974.66956  1.968214e+12  5.049185e+10\n",
       "1    bitcoin 2025-06-23 00:01:16.368  101156.79007  2.011306e+12  4.715282e+10\n",
       "2    bitcoin 2025-06-23 08:03:35.773  101326.14380  2.014705e+12  4.971918e+10\n",
       "3    bitcoin 2025-06-23 16:03:32.495  103124.54388  2.048099e+12  4.180687e+10\n",
       "4    bitcoin 2025-06-24 00:03:24.192  105013.07163  2.087557e+12  5.048241e+10\n",
       "..       ...                     ...           ...           ...           ...\n",
       "535   solana 2025-09-19 06:02:50.308     242.71725  1.317810e+11  8.952154e+09\n",
       "536   solana 2025-09-19 14:02:43.917     236.97963  1.286921e+11  8.174008e+09\n",
       "537   solana 2025-09-19 22:02:35.976     238.68951  1.296621e+11  7.713996e+09\n",
       "538   solana 2025-09-20 06:02:59.527     237.65302  1.290728e+11  6.200602e+09\n",
       "539   solana 2025-09-20 15:19:24.000     238.75262  1.296236e+11  4.184540e+09\n",
       "\n",
       "[540 rows x 5 columns]"
      ]
     },
     "execution_count": 16,
     "metadata": {},
     "output_type": "execute_result"
    }
   ],
   "source": [
    "def prepare_market_history_records(coin_id, market_chart_data, sample_size=(3 * days)):\n",
    "    rows = []\n",
    "    total_records = len(market_chart_data['prices'])\n",
    "    indices = np.linspace(0, total_records - 1, sample_size)\n",
    "    indices = np.floor(indices).astype(int)\n",
    "\n",
    "    print(indices)\n",
    "\n",
    "    for i in indices:\n",
    "        timestamp_ms = market_chart_data['prices'][i][0]\n",
    "        timestamp = datetime.fromtimestamp(timestamp_ms / 1000)\n",
    "\n",
    "        price = round(market_chart_data['prices'][i][1], 5)\n",
    "        market_cap = round(market_chart_data['market_caps'][i][1], 5)\n",
    "        volume = round(market_chart_data['total_volumes'][i][1], 5)\n",
    "\n",
    "        row = {\n",
    "            'coin_id': coin_id,\n",
    "            'timestamp': timestamp,\n",
    "            'price': price,\n",
    "            'market_cap': market_cap,\n",
    "            'volume': volume\n",
    "        }\n",
    "        rows.append(row)\n",
    "\n",
    "    return rows\n",
    "\n",
    "fixed_payload = []\n",
    "for idx, coin in enumerate(coins):\n",
    "    fixed_payload.extend(prepare_market_history_records(coin, payloads[idx]))\n",
    "\n",
    "market_history_df = pd.DataFrame(fixed_payload)\n",
    "market_history_df\n"
   ]
  },
  {
   "cell_type": "markdown",
   "id": "93a4372b",
   "metadata": {},
   "source": [
    "# LOAD"
   ]
  },
  {
   "cell_type": "code",
   "execution_count": 17,
   "id": "8482c261",
   "metadata": {},
   "outputs": [],
   "source": [
    "MYSQL_USER = os.getenv(\"MYSQL_USER\")\n",
    "MYSQL_PASSWORD = os.getenv(\"MYSQL_PASSWORD\")\n",
    "MYSQL_HOST = os.getenv(\"MYSQL_HOST\")\n",
    "MYSQL_PORT = os.getenv(\"MYSQL_PORT\")\n",
    "MYSQL_DB = os.getenv(\"MYSQL_DATABASE\")"
   ]
  },
  {
   "cell_type": "code",
   "execution_count": 18,
   "id": "312a783e",
   "metadata": {},
   "outputs": [
    {
     "name": "stdout",
     "output_type": "stream",
     "text": [
      "[SUCCESS] Connected to MySQL db localhost:3306/cryptodb as user root\n"
     ]
    }
   ],
   "source": [
    "db_conn = connector.connect(\n",
    "    host=MYSQL_HOST,\n",
    "    user=MYSQL_USER,\n",
    "    password=MYSQL_PASSWORD,\n",
    "    port=MYSQL_PORT,\n",
    "    database=MYSQL_DB,\n",
    "    connection_timeout=10,\n",
    "    autocommit=False,\n",
    "    raise_on_warnings=True\n",
    ")   \n",
    "\n",
    "db_cur = db_conn.cursor()\n",
    "print(f\"[SUCCESS] Connected to MySQL db {MYSQL_HOST}:{MYSQL_PORT}/{MYSQL_DB} as user {MYSQL_USER}\")"
   ]
  },
  {
   "cell_type": "code",
   "execution_count": 19,
   "id": "4645b14d",
   "metadata": {},
   "outputs": [
    {
     "name": "stdout",
     "output_type": "stream",
     "text": [
      "[SUCCESS] Table 'market_history' exists in database 'cryptodb'\n"
     ]
    }
   ],
   "source": [
    "sql_table = \"market_history\"\n",
    "db_cur.execute(f\"SHOW TABLES LIKE '{sql_table}'\")\n",
    "\n",
    "if db_cur.fetchone() is None:\n",
    "    raise SystemExit(f\"[ERROR] Table '{sql_table}' does not exist in database '{MYSQL_DB}'\")\n",
    "else:\n",
    "    print(f\"[SUCCESS] Table '{sql_table}' exists in database '{MYSQL_DB}'\")"
   ]
  },
  {
   "cell_type": "code",
   "execution_count": 20,
   "id": "8132af2f",
   "metadata": {},
   "outputs": [],
   "source": [
    "INSERT_SQL = \"\"\"\n",
    "INSERT INTO market_history (\n",
    "    coin_id, timestamp, price, market_cap, volume\n",
    ") VALUES (\n",
    "    %s, %s, %s, %s, %s\n",
    ")\n",
    "\"\"\""
   ]
  },
  {
   "cell_type": "code",
   "execution_count": 21,
   "id": "da77e62b",
   "metadata": {},
   "outputs": [],
   "source": [
    "market_history_list = market_history_df.values.tolist()"
   ]
  },
  {
   "cell_type": "code",
   "execution_count": 22,
   "id": "8fb39df4",
   "metadata": {},
   "outputs": [
    {
     "name": "stdout",
     "output_type": "stream",
     "text": [
      "[SUCCESS] Inserted 540 records into table 'market_history'\n",
      "[INFO] MySQL connection closed\n"
     ]
    }
   ],
   "source": [
    "try:\n",
    "    db_cur.executemany(INSERT_SQL, market_history_list)\n",
    "    db_conn.commit()\n",
    "    print(f\"[SUCCESS] Inserted {db_cur.rowcount} records into table '{sql_table}'\")\n",
    "except connector.Error as err:\n",
    "    db_conn.rollback()\n",
    "    print(f\"[ERROR] Failed to insert records into table '{sql_table}': {err}\")\n",
    "finally:\n",
    "    db_cur.close()\n",
    "    db_conn.close()\n",
    "    print(\"[INFO] MySQL connection closed\")"
   ]
  }
 ],
 "metadata": {
  "kernelspec": {
   "display_name": "crypto-etl-venv (3.10.12)",
   "language": "python",
   "name": "python3"
  },
  "language_info": {
   "codemirror_mode": {
    "name": "ipython",
    "version": 3
   },
   "file_extension": ".py",
   "mimetype": "text/x-python",
   "name": "python",
   "nbconvert_exporter": "python",
   "pygments_lexer": "ipython3",
   "version": "3.10.12"
  }
 },
 "nbformat": 4,
 "nbformat_minor": 5
}
