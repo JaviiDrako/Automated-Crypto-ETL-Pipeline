{
 "cells": [
  {
   "cell_type": "code",
   "execution_count": 160,
   "id": "0e31dbbb",
   "metadata": {},
   "outputs": [],
   "source": [
    "import os\n",
    "import json\n",
    "import requests\n",
    "import pandas as pd\n",
    "from mysql import connector\n",
    "from dotenv import load_dotenv\n",
    "import numpy as np"
   ]
  },
  {
   "cell_type": "code",
   "execution_count": 161,
   "id": "6f5494ea",
   "metadata": {},
   "outputs": [],
   "source": [
    "coins = ['bitcoin', 'ethereum']"
   ]
  },
  {
   "cell_type": "code",
   "execution_count": 162,
   "id": "175b13b8",
   "metadata": {},
   "outputs": [
    {
     "data": {
      "text/plain": [
       "True"
      ]
     },
     "execution_count": 162,
     "metadata": {},
     "output_type": "execute_result"
    }
   ],
   "source": [
    "load_dotenv()"
   ]
  },
  {
   "cell_type": "code",
   "execution_count": 163,
   "id": "27d3cd73",
   "metadata": {},
   "outputs": [],
   "source": [
    "url = \"https://api.coingecko.com/api/v3/coins/markets\"\n",
    "params = {\n",
    "    \"vs_currency\": \"usd\",\n",
    "    \"ids\": \",\".join(coins),\n",
    "    \"order\": \"market_cap_desc\",\n",
    "    \"per_page\": len(coins),\n",
    "    \"page\": 1,\n",
    "    \"sparkline\": \"false\"\n",
    "}"
   ]
  },
  {
   "cell_type": "code",
   "execution_count": 164,
   "id": "d65f573e",
   "metadata": {},
   "outputs": [
    {
     "name": "stdout",
     "output_type": "stream",
     "text": [
      "{'vs_currency': 'usd', 'ids': 'bitcoin,ethereum', 'order': 'market_cap_desc', 'per_page': 2, 'page': 1, 'sparkline': 'false'}\n"
     ]
    }
   ],
   "source": [
    "print(params)"
   ]
  },
  {
   "cell_type": "markdown",
   "id": "8a89c068",
   "metadata": {},
   "source": [
    "# EXTRACT"
   ]
  },
  {
   "cell_type": "code",
   "execution_count": 165,
   "id": "4abe05f3",
   "metadata": {},
   "outputs": [],
   "source": [
    "response = requests.get(url, params=params)"
   ]
  },
  {
   "cell_type": "code",
   "execution_count": 166,
   "id": "036db46e",
   "metadata": {},
   "outputs": [],
   "source": [
    "payload = response.json()"
   ]
  },
  {
   "cell_type": "code",
   "execution_count": 167,
   "id": "7a4e2c4e",
   "metadata": {},
   "outputs": [
    {
     "data": {
      "text/plain": [
       "[{'id': 'bitcoin',\n",
       "  'symbol': 'btc',\n",
       "  'name': 'Bitcoin',\n",
       "  'image': 'https://coin-images.coingecko.com/coins/images/1/large/bitcoin.png?1696501400',\n",
       "  'current_price': 116181,\n",
       "  'market_cap': 2314673795138,\n",
       "  'market_cap_rank': 1,\n",
       "  'fully_diluted_valuation': 2314673795138,\n",
       "  'total_volume': 37266984961,\n",
       "  'high_24h': 117888,\n",
       "  'low_24h': 116196,\n",
       "  'price_change_24h': -1083.2454006542102,\n",
       "  'price_change_percentage_24h': -0.92376,\n",
       "  'market_cap_change_24h': -22575571541.748047,\n",
       "  'market_cap_change_percentage_24h': -0.9659,\n",
       "  'circulating_supply': 19923078.0,\n",
       "  'total_supply': 19923078.0,\n",
       "  'max_supply': 21000000.0,\n",
       "  'ath': 124128,\n",
       "  'ath_change_percentage': -6.39853,\n",
       "  'ath_date': '2025-08-14T00:37:02.582Z',\n",
       "  'atl': 67.81,\n",
       "  'atl_change_percentage': 171242.56174,\n",
       "  'atl_date': '2013-07-06T00:00:00.000Z',\n",
       "  'roi': None,\n",
       "  'last_updated': '2025-09-19T13:09:53.027Z'},\n",
       " {'id': 'ethereum',\n",
       "  'symbol': 'eth',\n",
       "  'name': 'Ethereum',\n",
       "  'image': 'https://coin-images.coingecko.com/coins/images/279/large/ethereum.png?1696501628',\n",
       "  'current_price': 4526.58,\n",
       "  'market_cap': 546355253539,\n",
       "  'market_cap_rank': 2,\n",
       "  'fully_diluted_valuation': 546355253539,\n",
       "  'total_volume': 27094463532,\n",
       "  'high_24h': 4636.49,\n",
       "  'low_24h': 4512.05,\n",
       "  'price_change_24h': -47.83305087433291,\n",
       "  'price_change_percentage_24h': -1.04567,\n",
       "  'market_cap_change_24h': -4916182530.952332,\n",
       "  'market_cap_change_percentage_24h': -0.89179,\n",
       "  'circulating_supply': 120703962.6034045,\n",
       "  'total_supply': 120703962.6034045,\n",
       "  'max_supply': None,\n",
       "  'ath': 4946.05,\n",
       "  'ath_change_percentage': -8.63707,\n",
       "  'ath_date': '2025-08-24T19:21:03.333Z',\n",
       "  'atl': 0.432979,\n",
       "  'atl_change_percentage': 1043566.40252,\n",
       "  'atl_date': '2015-10-20T00:00:00.000Z',\n",
       "  'roi': {'times': 51.08666273873131,\n",
       "   'currency': 'btc',\n",
       "   'percentage': 5108.666273873131},\n",
       "  'last_updated': '2025-09-19T13:09:53.540Z'}]"
      ]
     },
     "execution_count": 167,
     "metadata": {},
     "output_type": "execute_result"
    }
   ],
   "source": [
    "payload"
   ]
  },
  {
   "cell_type": "code",
   "execution_count": 168,
   "id": "0ca82ed3",
   "metadata": {},
   "outputs": [
    {
     "name": "stdout",
     "output_type": "stream",
     "text": [
      "[\n",
      "    {\n",
      "        \"id\": \"bitcoin\",\n",
      "        \"symbol\": \"btc\",\n",
      "        \"name\": \"Bitcoin\",\n",
      "        \"image\": \"https://coin-images.coingecko.com/coins/images/1/large/bitcoin.png?1696501400\",\n",
      "        \"current_price\": 116181,\n",
      "        \"market_cap\": 2314673795138,\n",
      "        \"market_cap_rank\": 1,\n",
      "        \"fully_diluted_valuation\": 2314673795138,\n",
      "        \"total_volume\": 37266984961,\n",
      "        \"high_24h\": 117888,\n",
      "        \"low_24h\": 116196,\n",
      "        \"price_change_24h\": -1083.2454006542102,\n",
      "        \"price_change_percentage_24h\": -0.92376,\n",
      "        \"market_cap_change_24h\": -22575571541.748047,\n",
      "        \"market_cap_change_percentage_24h\": -0.9659,\n",
      "        \"circulating_supply\": 19923078.0,\n",
      "        \"total_supply\": 19923078.0,\n",
      "        \"max_supply\": 21000000.0,\n",
      "        \"ath\": 124128,\n",
      "        \"ath_change_percentage\": -6.39853,\n",
      "        \"ath_date\": \"2025-08-14T00:37:02.582Z\",\n",
      "        \"atl\": 67.81,\n",
      "        \"atl_change_percentage\": 171242.56174,\n",
      "        \"atl_date\": \"2013-07-06T00:00:00.000Z\",\n",
      "        \"roi\": null,\n",
      "        \"last_updated\": \"2025-09-19T13:09:53.027Z\"\n",
      "    },\n",
      "    {\n",
      "        \"id\": \"ethereum\",\n",
      "        \"symbol\": \"eth\",\n",
      "        \"name\": \"Ethereum\",\n",
      "        \"image\": \"https://coin-images.coingecko.com/coins/images/279/large/ethereum.png?1696501628\",\n",
      "        \"current_price\": 4526.58,\n",
      "        \"market_cap\": 546355253539,\n",
      "        \"market_cap_rank\": 2,\n",
      "        \"fully_diluted_valuation\": 546355253539,\n",
      "        \"total_volume\": 27094463532,\n",
      "        \"high_24h\": 4636.49,\n",
      "        \"low_24h\": 4512.05,\n",
      "        \"price_change_24h\": -47.83305087433291,\n",
      "        \"price_change_percentage_24h\": -1.04567,\n",
      "        \"market_cap_change_24h\": -4916182530.952332,\n",
      "        \"market_cap_change_percentage_24h\": -0.89179,\n",
      "        \"circulating_supply\": 120703962.6034045,\n",
      "        \"total_supply\": 120703962.6034045,\n",
      "        \"max_supply\": null,\n",
      "        \"ath\": 4946.05,\n",
      "        \"ath_change_percentage\": -8.63707,\n",
      "        \"ath_date\": \"2025-08-24T19:21:03.333Z\",\n",
      "        \"atl\": 0.432979,\n",
      "        \"atl_change_percentage\": 1043566.40252,\n",
      "        \"atl_date\": \"2015-10-20T00:00:00.000Z\",\n",
      "        \"roi\": {\n",
      "            \"times\": 51.08666273873131,\n",
      "            \"currency\": \"btc\",\n",
      "            \"percentage\": 5108.666273873131\n",
      "        },\n",
      "        \"last_updated\": \"2025-09-19T13:09:53.540Z\"\n",
      "    }\n",
      "]\n"
     ]
    }
   ],
   "source": [
    "formatted_response = json.dumps(payload, indent=4)\n",
    "print(formatted_response)"
   ]
  },
  {
   "cell_type": "markdown",
   "id": "fe19426e",
   "metadata": {},
   "source": [
    "# TRANSFORM"
   ]
  },
  {
   "cell_type": "code",
   "execution_count": 169,
   "id": "f014953c",
   "metadata": {},
   "outputs": [
    {
     "data": {
      "text/html": [
       "<div>\n",
       "<style scoped>\n",
       "    .dataframe tbody tr th:only-of-type {\n",
       "        vertical-align: middle;\n",
       "    }\n",
       "\n",
       "    .dataframe tbody tr th {\n",
       "        vertical-align: top;\n",
       "    }\n",
       "\n",
       "    .dataframe thead th {\n",
       "        text-align: right;\n",
       "    }\n",
       "</style>\n",
       "<table border=\"1\" class=\"dataframe\">\n",
       "  <thead>\n",
       "    <tr style=\"text-align: right;\">\n",
       "      <th></th>\n",
       "      <th>id</th>\n",
       "      <th>symbol</th>\n",
       "      <th>name</th>\n",
       "      <th>image</th>\n",
       "      <th>current_price</th>\n",
       "      <th>market_cap</th>\n",
       "      <th>market_cap_rank</th>\n",
       "      <th>fully_diluted_valuation</th>\n",
       "      <th>total_volume</th>\n",
       "      <th>high_24h</th>\n",
       "      <th>...</th>\n",
       "      <th>total_supply</th>\n",
       "      <th>max_supply</th>\n",
       "      <th>ath</th>\n",
       "      <th>ath_change_percentage</th>\n",
       "      <th>ath_date</th>\n",
       "      <th>atl</th>\n",
       "      <th>atl_change_percentage</th>\n",
       "      <th>atl_date</th>\n",
       "      <th>roi</th>\n",
       "      <th>last_updated</th>\n",
       "    </tr>\n",
       "  </thead>\n",
       "  <tbody>\n",
       "    <tr>\n",
       "      <th>0</th>\n",
       "      <td>bitcoin</td>\n",
       "      <td>btc</td>\n",
       "      <td>Bitcoin</td>\n",
       "      <td>https://coin-images.coingecko.com/coins/images...</td>\n",
       "      <td>116181.00</td>\n",
       "      <td>2314673795138</td>\n",
       "      <td>1</td>\n",
       "      <td>2314673795138</td>\n",
       "      <td>37266984961</td>\n",
       "      <td>117888.00</td>\n",
       "      <td>...</td>\n",
       "      <td>1.992308e+07</td>\n",
       "      <td>21000000.0</td>\n",
       "      <td>124128.00</td>\n",
       "      <td>-6.39853</td>\n",
       "      <td>2025-08-14T00:37:02.582Z</td>\n",
       "      <td>67.810000</td>\n",
       "      <td>1.712426e+05</td>\n",
       "      <td>2013-07-06T00:00:00.000Z</td>\n",
       "      <td>None</td>\n",
       "      <td>2025-09-19T13:09:53.027Z</td>\n",
       "    </tr>\n",
       "    <tr>\n",
       "      <th>1</th>\n",
       "      <td>ethereum</td>\n",
       "      <td>eth</td>\n",
       "      <td>Ethereum</td>\n",
       "      <td>https://coin-images.coingecko.com/coins/images...</td>\n",
       "      <td>4526.58</td>\n",
       "      <td>546355253539</td>\n",
       "      <td>2</td>\n",
       "      <td>546355253539</td>\n",
       "      <td>27094463532</td>\n",
       "      <td>4636.49</td>\n",
       "      <td>...</td>\n",
       "      <td>1.207040e+08</td>\n",
       "      <td>NaN</td>\n",
       "      <td>4946.05</td>\n",
       "      <td>-8.63707</td>\n",
       "      <td>2025-08-24T19:21:03.333Z</td>\n",
       "      <td>0.432979</td>\n",
       "      <td>1.043566e+06</td>\n",
       "      <td>2015-10-20T00:00:00.000Z</td>\n",
       "      <td>{'times': 51.08666273873131, 'currency': 'btc'...</td>\n",
       "      <td>2025-09-19T13:09:53.540Z</td>\n",
       "    </tr>\n",
       "  </tbody>\n",
       "</table>\n",
       "<p>2 rows × 26 columns</p>\n",
       "</div>"
      ],
      "text/plain": [
       "         id symbol      name  \\\n",
       "0   bitcoin    btc   Bitcoin   \n",
       "1  ethereum    eth  Ethereum   \n",
       "\n",
       "                                               image  current_price  \\\n",
       "0  https://coin-images.coingecko.com/coins/images...      116181.00   \n",
       "1  https://coin-images.coingecko.com/coins/images...        4526.58   \n",
       "\n",
       "      market_cap  market_cap_rank  fully_diluted_valuation  total_volume  \\\n",
       "0  2314673795138                1            2314673795138   37266984961   \n",
       "1   546355253539                2             546355253539   27094463532   \n",
       "\n",
       "    high_24h  ...  total_supply  max_supply        ath  ath_change_percentage  \\\n",
       "0  117888.00  ...  1.992308e+07  21000000.0  124128.00               -6.39853   \n",
       "1    4636.49  ...  1.207040e+08         NaN    4946.05               -8.63707   \n",
       "\n",
       "                   ath_date        atl  atl_change_percentage  \\\n",
       "0  2025-08-14T00:37:02.582Z  67.810000           1.712426e+05   \n",
       "1  2025-08-24T19:21:03.333Z   0.432979           1.043566e+06   \n",
       "\n",
       "                   atl_date  \\\n",
       "0  2013-07-06T00:00:00.000Z   \n",
       "1  2015-10-20T00:00:00.000Z   \n",
       "\n",
       "                                                 roi              last_updated  \n",
       "0                                               None  2025-09-19T13:09:53.027Z  \n",
       "1  {'times': 51.08666273873131, 'currency': 'btc'...  2025-09-19T13:09:53.540Z  \n",
       "\n",
       "[2 rows x 26 columns]"
      ]
     },
     "execution_count": 169,
     "metadata": {},
     "output_type": "execute_result"
    }
   ],
   "source": [
    "coins_df = pd.DataFrame(payload)\n",
    "coins_df"
   ]
  },
  {
   "cell_type": "code",
   "execution_count": 170,
   "id": "63c870a5",
   "metadata": {},
   "outputs": [
    {
     "name": "stdout",
     "output_type": "stream",
     "text": [
      "<class 'pandas.core.frame.DataFrame'>\n",
      "RangeIndex: 2 entries, 0 to 1\n",
      "Data columns (total 26 columns):\n",
      " #   Column                            Non-Null Count  Dtype  \n",
      "---  ------                            --------------  -----  \n",
      " 0   id                                2 non-null      object \n",
      " 1   symbol                            2 non-null      object \n",
      " 2   name                              2 non-null      object \n",
      " 3   image                             2 non-null      object \n",
      " 4   current_price                     2 non-null      float64\n",
      " 5   market_cap                        2 non-null      int64  \n",
      " 6   market_cap_rank                   2 non-null      int64  \n",
      " 7   fully_diluted_valuation           2 non-null      int64  \n",
      " 8   total_volume                      2 non-null      int64  \n",
      " 9   high_24h                          2 non-null      float64\n",
      " 10  low_24h                           2 non-null      float64\n",
      " 11  price_change_24h                  2 non-null      float64\n",
      " 12  price_change_percentage_24h       2 non-null      float64\n",
      " 13  market_cap_change_24h             2 non-null      float64\n",
      " 14  market_cap_change_percentage_24h  2 non-null      float64\n",
      " 15  circulating_supply                2 non-null      float64\n",
      " 16  total_supply                      2 non-null      float64\n",
      " 17  max_supply                        1 non-null      float64\n",
      " 18  ath                               2 non-null      float64\n",
      " 19  ath_change_percentage             2 non-null      float64\n",
      " 20  ath_date                          2 non-null      object \n",
      " 21  atl                               2 non-null      float64\n",
      " 22  atl_change_percentage             2 non-null      float64\n",
      " 23  atl_date                          2 non-null      object \n",
      " 24  roi                               1 non-null      object \n",
      " 25  last_updated                      2 non-null      object \n",
      "dtypes: float64(14), int64(4), object(8)\n",
      "memory usage: 544.0+ bytes\n"
     ]
    }
   ],
   "source": [
    "coins_df.info()"
   ]
  },
  {
   "cell_type": "code",
   "execution_count": 171,
   "id": "6c034555",
   "metadata": {},
   "outputs": [
    {
     "name": "stdout",
     "output_type": "stream",
     "text": [
      "<class 'pandas.core.frame.DataFrame'>\n",
      "RangeIndex: 2 entries, 0 to 1\n",
      "Data columns (total 20 columns):\n",
      " #   Column                            Non-Null Count  Dtype  \n",
      "---  ------                            --------------  -----  \n",
      " 0   id                                2 non-null      object \n",
      " 1   symbol                            2 non-null      object \n",
      " 2   name                              2 non-null      object \n",
      " 3   current_price                     2 non-null      float64\n",
      " 4   market_cap                        2 non-null      int64  \n",
      " 5   market_cap_rank                   2 non-null      int64  \n",
      " 6   total_volume                      2 non-null      int64  \n",
      " 7   high_24h                          2 non-null      float64\n",
      " 8   low_24h                           2 non-null      float64\n",
      " 9   price_change_percentage_24h       2 non-null      float64\n",
      " 10  market_cap_change_percentage_24h  2 non-null      float64\n",
      " 11  circulating_supply                2 non-null      float64\n",
      " 12  max_supply                        1 non-null      float64\n",
      " 13  ath                               2 non-null      float64\n",
      " 14  ath_change_percentage             2 non-null      float64\n",
      " 15  ath_date                          2 non-null      object \n",
      " 16  atl                               2 non-null      float64\n",
      " 17  atl_change_percentage             2 non-null      float64\n",
      " 18  atl_date                          2 non-null      object \n",
      " 19  last_updated                      2 non-null      object \n",
      "dtypes: float64(11), int64(3), object(6)\n",
      "memory usage: 448.0+ bytes\n"
     ]
    },
    {
     "data": {
      "text/html": [
       "<div>\n",
       "<style scoped>\n",
       "    .dataframe tbody tr th:only-of-type {\n",
       "        vertical-align: middle;\n",
       "    }\n",
       "\n",
       "    .dataframe tbody tr th {\n",
       "        vertical-align: top;\n",
       "    }\n",
       "\n",
       "    .dataframe thead th {\n",
       "        text-align: right;\n",
       "    }\n",
       "</style>\n",
       "<table border=\"1\" class=\"dataframe\">\n",
       "  <thead>\n",
       "    <tr style=\"text-align: right;\">\n",
       "      <th></th>\n",
       "      <th>id</th>\n",
       "      <th>symbol</th>\n",
       "      <th>name</th>\n",
       "      <th>current_price</th>\n",
       "      <th>market_cap</th>\n",
       "      <th>market_cap_rank</th>\n",
       "      <th>total_volume</th>\n",
       "      <th>high_24h</th>\n",
       "      <th>low_24h</th>\n",
       "      <th>price_change_percentage_24h</th>\n",
       "      <th>market_cap_change_percentage_24h</th>\n",
       "      <th>circulating_supply</th>\n",
       "      <th>max_supply</th>\n",
       "      <th>ath</th>\n",
       "      <th>ath_change_percentage</th>\n",
       "      <th>ath_date</th>\n",
       "      <th>atl</th>\n",
       "      <th>atl_change_percentage</th>\n",
       "      <th>atl_date</th>\n",
       "      <th>last_updated</th>\n",
       "    </tr>\n",
       "  </thead>\n",
       "  <tbody>\n",
       "    <tr>\n",
       "      <th>0</th>\n",
       "      <td>bitcoin</td>\n",
       "      <td>btc</td>\n",
       "      <td>Bitcoin</td>\n",
       "      <td>116181.00</td>\n",
       "      <td>2314673795138</td>\n",
       "      <td>1</td>\n",
       "      <td>37266984961</td>\n",
       "      <td>117888.00</td>\n",
       "      <td>116196.00</td>\n",
       "      <td>-0.92376</td>\n",
       "      <td>-0.96590</td>\n",
       "      <td>1.992308e+07</td>\n",
       "      <td>21000000.0</td>\n",
       "      <td>124128.00</td>\n",
       "      <td>-6.39853</td>\n",
       "      <td>2025-08-14T00:37:02.582Z</td>\n",
       "      <td>67.810000</td>\n",
       "      <td>1.712426e+05</td>\n",
       "      <td>2013-07-06T00:00:00.000Z</td>\n",
       "      <td>2025-09-19T13:09:53.027Z</td>\n",
       "    </tr>\n",
       "    <tr>\n",
       "      <th>1</th>\n",
       "      <td>ethereum</td>\n",
       "      <td>eth</td>\n",
       "      <td>Ethereum</td>\n",
       "      <td>4526.58</td>\n",
       "      <td>546355253539</td>\n",
       "      <td>2</td>\n",
       "      <td>27094463532</td>\n",
       "      <td>4636.49</td>\n",
       "      <td>4512.05</td>\n",
       "      <td>-1.04567</td>\n",
       "      <td>-0.89179</td>\n",
       "      <td>1.207040e+08</td>\n",
       "      <td>NaN</td>\n",
       "      <td>4946.05</td>\n",
       "      <td>-8.63707</td>\n",
       "      <td>2025-08-24T19:21:03.333Z</td>\n",
       "      <td>0.432979</td>\n",
       "      <td>1.043566e+06</td>\n",
       "      <td>2015-10-20T00:00:00.000Z</td>\n",
       "      <td>2025-09-19T13:09:53.540Z</td>\n",
       "    </tr>\n",
       "  </tbody>\n",
       "</table>\n",
       "</div>"
      ],
      "text/plain": [
       "         id symbol      name  current_price     market_cap  market_cap_rank  \\\n",
       "0   bitcoin    btc   Bitcoin      116181.00  2314673795138                1   \n",
       "1  ethereum    eth  Ethereum        4526.58   546355253539                2   \n",
       "\n",
       "   total_volume   high_24h    low_24h  price_change_percentage_24h  \\\n",
       "0   37266984961  117888.00  116196.00                     -0.92376   \n",
       "1   27094463532    4636.49    4512.05                     -1.04567   \n",
       "\n",
       "   market_cap_change_percentage_24h  circulating_supply  max_supply  \\\n",
       "0                          -0.96590        1.992308e+07  21000000.0   \n",
       "1                          -0.89179        1.207040e+08         NaN   \n",
       "\n",
       "         ath  ath_change_percentage                  ath_date        atl  \\\n",
       "0  124128.00               -6.39853  2025-08-14T00:37:02.582Z  67.810000   \n",
       "1    4946.05               -8.63707  2025-08-24T19:21:03.333Z   0.432979   \n",
       "\n",
       "   atl_change_percentage                  atl_date              last_updated  \n",
       "0           1.712426e+05  2013-07-06T00:00:00.000Z  2025-09-19T13:09:53.027Z  \n",
       "1           1.043566e+06  2015-10-20T00:00:00.000Z  2025-09-19T13:09:53.540Z  "
      ]
     },
     "execution_count": 171,
     "metadata": {},
     "output_type": "execute_result"
    }
   ],
   "source": [
    "coins_df = coins_df.drop(columns=['image', 'fully_diluted_valuation', 'price_change_24h', 'market_cap_change_24h', 'total_supply', 'roi'], errors='ignore')\n",
    "\n",
    "coins_df.info()\n",
    "\n",
    "coins_df"
   ]
  },
  {
   "cell_type": "code",
   "execution_count": 172,
   "id": "285d2250",
   "metadata": {},
   "outputs": [
    {
     "name": "stdout",
     "output_type": "stream",
     "text": [
      "<class 'pandas.core.frame.DataFrame'>\n",
      "RangeIndex: 2 entries, 0 to 1\n",
      "Data columns (total 20 columns):\n",
      " #   Column                            Non-Null Count  Dtype              \n",
      "---  ------                            --------------  -----              \n",
      " 0   id                                2 non-null      object             \n",
      " 1   symbol                            2 non-null      object             \n",
      " 2   name                              2 non-null      object             \n",
      " 3   current_price                     2 non-null      object             \n",
      " 4   market_cap                        2 non-null      int64              \n",
      " 5   market_cap_rank                   2 non-null      int64              \n",
      " 6   total_volume                      2 non-null      int64              \n",
      " 7   high_24h                          2 non-null      object             \n",
      " 8   low_24h                           2 non-null      object             \n",
      " 9   price_change_percentage_24h       2 non-null      object             \n",
      " 10  market_cap_change_percentage_24h  2 non-null      object             \n",
      " 11  circulating_supply                2 non-null      object             \n",
      " 12  max_supply                        1 non-null      object             \n",
      " 13  ath                               2 non-null      object             \n",
      " 14  ath_change_percentage             2 non-null      object             \n",
      " 15  ath_date                          2 non-null      datetime64[ns, UTC]\n",
      " 16  atl                               2 non-null      object             \n",
      " 17  atl_change_percentage             2 non-null      object             \n",
      " 18  atl_date                          2 non-null      datetime64[ns, UTC]\n",
      " 19  last_updated                      2 non-null      datetime64[ns, UTC]\n",
      "dtypes: datetime64[ns, UTC](3), int64(3), object(14)\n",
      "memory usage: 448.0+ bytes\n"
     ]
    }
   ],
   "source": [
    "coins_df['ath_date'] = pd.to_datetime(coins_df['ath_date'], errors='coerce')\n",
    "coins_df['atl_date'] = pd.to_datetime(coins_df['atl_date'], errors='coerce')\n",
    "coins_df['last_updated'] = pd.to_datetime(coins_df['last_updated'], errors='coerce')\n",
    "\n",
    "decimals_dict = {\n",
    "    'current_price': 8,\n",
    "    'high_24h': 8,\n",
    "    'low_24h': 8,\n",
    "    'price_change_percentage_24h': 4,\n",
    "    'market_cap_change_percentage_24h': 4,\n",
    "    'circulating_supply': 8,\n",
    "    'max_supply': 8,\n",
    "    'ath': 8,\n",
    "    'ath_change_percentage': 4,\n",
    "    'atl': 8,\n",
    "    'atl_change_percentage': 4\n",
    "}\n",
    "\n",
    "coins_df = coins_df.round(decimals_dict)\n",
    "\n",
    "coins_df = coins_df.replace({np.nan: None})\n",
    "\n",
    "coins_df.info()"
   ]
  },
  {
   "cell_type": "markdown",
   "id": "4ba3cbf5",
   "metadata": {},
   "source": [
    "# LOAD"
   ]
  },
  {
   "cell_type": "code",
   "execution_count": 173,
   "id": "55705473",
   "metadata": {},
   "outputs": [],
   "source": [
    "MYSQL_USER = os.getenv(\"MYSQL_USER\")\n",
    "MYSQL_PASSWORD = os.getenv(\"MYSQL_PASSWORD\")\n",
    "MYSQL_HOST = os.getenv(\"MYSQL_HOST\")\n",
    "MYSQL_PORT = os.getenv(\"MYSQL_PORT\")\n",
    "MYSQL_DB = os.getenv(\"MYSQL_DATABASE\")"
   ]
  },
  {
   "cell_type": "code",
   "execution_count": 174,
   "id": "caa837c3",
   "metadata": {},
   "outputs": [
    {
     "name": "stdout",
     "output_type": "stream",
     "text": [
      "[SUCCESS] Connected to MySQL db localhost:3306/cryptodb as user root\n"
     ]
    }
   ],
   "source": [
    "db_conn = connector.connect(\n",
    "    host=MYSQL_HOST,\n",
    "    user=MYSQL_USER,\n",
    "    password=MYSQL_PASSWORD,\n",
    "    port=MYSQL_PORT,\n",
    "    database=MYSQL_DB,\n",
    "    connection_timeout=10,\n",
    "    autocommit=False,\n",
    "    raise_on_warnings=True\n",
    ")   \n",
    "\n",
    "db_cur = db_conn.cursor()\n",
    "print(f\"[SUCCESS] Connected to MySQL db {MYSQL_HOST}:{MYSQL_PORT}/{MYSQL_DB} as user {MYSQL_USER}\")\n"
   ]
  },
  {
   "cell_type": "code",
   "execution_count": 175,
   "id": "eb376457",
   "metadata": {},
   "outputs": [
    {
     "name": "stdout",
     "output_type": "stream",
     "text": [
      "[SUCCESS] Table 'market_snapshots' exists in database 'cryptodb'\n"
     ]
    }
   ],
   "source": [
    "sql_table = \"market_snapshots\"\n",
    "db_cur.execute(f\"SHOW TABLES LIKE '{sql_table}'\")\n",
    "\n",
    "if db_cur.fetchone() is None:\n",
    "    raise SystemExit(f\"[ERROR] Table '{sql_table}' does not exist in database '{MYSQL_DB}'\")\n",
    "else:\n",
    "    print(f\"[SUCCESS] Table '{sql_table}' exists in database '{MYSQL_DB}'\")\n",
    "    "
   ]
  },
  {
   "cell_type": "code",
   "execution_count": 176,
   "id": "30b11205",
   "metadata": {},
   "outputs": [],
   "source": [
    "INSERT_SQL = f\"\"\"\n",
    "INSERT INTO {sql_table} (\n",
    "    coin_id, symbol, name, current_price, market_cap, \n",
    "    market_cap_rank, total_volume, high_24h, low_24h, \n",
    "    price_change_percentage_24h, market_cap_change_percentage_24h, \n",
    "    circulating_supply, max_supply, ath, ath_change_percentage, \n",
    "    ath_date, atl, atl_change_percentage, atl_date, last_updated\n",
    ") \n",
    "VALUES (\n",
    "    %s, %s, %s, %s, %s, \n",
    "    %s, %s, %s, %s, \n",
    "    %s, %s, \n",
    "    %s, %s, %s, %s, \n",
    "    %s, %s, %s, %s, %s\n",
    ") \n",
    "\"\"\"\n"
   ]
  },
  {
   "cell_type": "code",
   "execution_count": 177,
   "id": "f73c2304",
   "metadata": {},
   "outputs": [
    {
     "name": "stdout",
     "output_type": "stream",
     "text": [
      "[['bitcoin', 'btc', 'Bitcoin', 116181.0, 2314673795138, 1, 37266984961, 117888.0, 116196.0, -0.9238, -0.9659, 19923078.0, 21000000.0, 124128.0, -6.3985, Timestamp('2025-08-14 00:37:02.582000+0000', tz='UTC'), 67.81, 171242.5617, Timestamp('2013-07-06 00:00:00+0000', tz='UTC'), Timestamp('2025-09-19 13:09:53.027000+0000', tz='UTC')], ['ethereum', 'eth', 'Ethereum', 4526.58, 546355253539, 2, 27094463532, 4636.49, 4512.05, -1.0457, -0.8918, 120703962.6034045, None, 4946.05, -8.6371, Timestamp('2025-08-24 19:21:03.333000+0000', tz='UTC'), 0.432979, 1043566.4025, Timestamp('2015-10-20 00:00:00+0000', tz='UTC'), Timestamp('2025-09-19 13:09:53.540000+0000', tz='UTC')]]\n"
     ]
    }
   ],
   "source": [
    "coins_list = coins_df.values.tolist()\n",
    "print(coins_list)"
   ]
  },
  {
   "cell_type": "code",
   "execution_count": 178,
   "id": "3b507ee5",
   "metadata": {},
   "outputs": [
    {
     "name": "stdout",
     "output_type": "stream",
     "text": [
      "[SUCCESS] Upserted 2 records into table 'market_snapshots'\n",
      "[INFO] MySQL connection closed\n"
     ]
    }
   ],
   "source": [
    "try:\n",
    "    db_cur.executemany(INSERT_SQL, coins_list)\n",
    "    db_conn.commit()\n",
    "    print(f\"[SUCCESS] Upserted {db_cur.rowcount} records into table '{sql_table}'\")\n",
    "except connector.Error as err:\n",
    "    db_conn.rollback()\n",
    "    print(f\"[ERROR] Failed to upsert records into table '{sql_table}': {err}\")\n",
    "finally:\n",
    "    db_cur.close()\n",
    "    db_conn.close()\n",
    "    print(\"[INFO] MySQL connection closed\")"
   ]
  }
 ],
 "metadata": {
  "kernelspec": {
   "display_name": "crypto-etl-venv (3.10.12)",
   "language": "python",
   "name": "python3"
  },
  "language_info": {
   "codemirror_mode": {
    "name": "ipython",
    "version": 3
   },
   "file_extension": ".py",
   "mimetype": "text/x-python",
   "name": "python",
   "nbconvert_exporter": "python",
   "pygments_lexer": "ipython3",
   "version": "3.10.12"
  }
 },
 "nbformat": 4,
 "nbformat_minor": 5
}
