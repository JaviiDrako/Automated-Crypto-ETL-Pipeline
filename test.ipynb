{
 "cells": [
  {
   "cell_type": "code",
   "execution_count": 570,
   "id": "0e31dbbb",
   "metadata": {},
   "outputs": [],
   "source": [
    "import os\n",
    "import json\n",
    "import requests\n",
    "import pandas as pd\n",
    "from mysql import connector\n",
    "from dotenv import load_dotenv"
   ]
  },
  {
   "cell_type": "code",
   "execution_count": 571,
   "id": "6f5494ea",
   "metadata": {},
   "outputs": [],
   "source": [
    "coins = ['bitcoin']"
   ]
  },
  {
   "cell_type": "code",
   "execution_count": 572,
   "id": "175b13b8",
   "metadata": {},
   "outputs": [
    {
     "data": {
      "text/plain": [
       "True"
      ]
     },
     "execution_count": 572,
     "metadata": {},
     "output_type": "execute_result"
    }
   ],
   "source": [
    "load_dotenv()"
   ]
  },
  {
   "cell_type": "code",
   "execution_count": 573,
   "id": "27d3cd73",
   "metadata": {},
   "outputs": [],
   "source": [
    "url = \"https://api.coingecko.com/api/v3/coins/markets\"\n",
    "params = {\n",
    "    \"vs_currency\": \"usd\",\n",
    "    \"ids\": \",\".join(coins),\n",
    "    \"order\": \"market_cap_desc\",\n",
    "    \"per_page\": len(coins),\n",
    "    \"page\": 1,\n",
    "    \"sparkline\": \"false\"\n",
    "}"
   ]
  },
  {
   "cell_type": "code",
   "execution_count": 574,
   "id": "d65f573e",
   "metadata": {},
   "outputs": [
    {
     "name": "stdout",
     "output_type": "stream",
     "text": [
      "{'vs_currency': 'usd', 'ids': 'bitcoin', 'order': 'market_cap_desc', 'per_page': 1, 'page': 1, 'sparkline': 'false'}\n"
     ]
    }
   ],
   "source": [
    "print(params)"
   ]
  },
  {
   "cell_type": "markdown",
   "id": "8a89c068",
   "metadata": {},
   "source": [
    "# EXTRACT"
   ]
  },
  {
   "cell_type": "code",
   "execution_count": 575,
   "id": "4abe05f3",
   "metadata": {},
   "outputs": [],
   "source": [
    "response = requests.get(url, params=params)"
   ]
  },
  {
   "cell_type": "code",
   "execution_count": 576,
   "id": "036db46e",
   "metadata": {},
   "outputs": [],
   "source": [
    "payload = response.json()"
   ]
  },
  {
   "cell_type": "code",
   "execution_count": 577,
   "id": "7a4e2c4e",
   "metadata": {},
   "outputs": [
    {
     "data": {
      "text/plain": [
       "[{'id': 'bitcoin',\n",
       "  'symbol': 'btc',\n",
       "  'name': 'Bitcoin',\n",
       "  'image': 'https://coin-images.coingecko.com/coins/images/1/large/bitcoin.png?1696501400',\n",
       "  'current_price': 117167,\n",
       "  'market_cap': 2334064704577,\n",
       "  'market_cap_rank': 1,\n",
       "  'fully_diluted_valuation': 2334064704577,\n",
       "  'total_volume': 41488303467,\n",
       "  'high_24h': 117888,\n",
       "  'low_24h': 116774,\n",
       "  'price_change_24h': -12.402496997834533,\n",
       "  'price_change_percentage_24h': -0.01058,\n",
       "  'market_cap_change_24h': 3757827791,\n",
       "  'market_cap_change_percentage_24h': 0.16126,\n",
       "  'circulating_supply': 19922890.0,\n",
       "  'total_supply': 19922890.0,\n",
       "  'max_supply': 21000000.0,\n",
       "  'ath': 124128,\n",
       "  'ath_change_percentage': -5.63277,\n",
       "  'ath_date': '2025-08-14T00:37:02.582Z',\n",
       "  'atl': 67.81,\n",
       "  'atl_change_percentage': 172644.32472,\n",
       "  'atl_date': '2013-07-06T00:00:00.000Z',\n",
       "  'roi': None,\n",
       "  'last_updated': '2025-09-19T03:04:23.081Z'}]"
      ]
     },
     "execution_count": 577,
     "metadata": {},
     "output_type": "execute_result"
    }
   ],
   "source": [
    "payload"
   ]
  },
  {
   "cell_type": "code",
   "execution_count": 578,
   "id": "0ca82ed3",
   "metadata": {},
   "outputs": [
    {
     "name": "stdout",
     "output_type": "stream",
     "text": [
      "[\n",
      "    {\n",
      "        \"id\": \"bitcoin\",\n",
      "        \"symbol\": \"btc\",\n",
      "        \"name\": \"Bitcoin\",\n",
      "        \"image\": \"https://coin-images.coingecko.com/coins/images/1/large/bitcoin.png?1696501400\",\n",
      "        \"current_price\": 117167,\n",
      "        \"market_cap\": 2334064704577,\n",
      "        \"market_cap_rank\": 1,\n",
      "        \"fully_diluted_valuation\": 2334064704577,\n",
      "        \"total_volume\": 41488303467,\n",
      "        \"high_24h\": 117888,\n",
      "        \"low_24h\": 116774,\n",
      "        \"price_change_24h\": -12.402496997834533,\n",
      "        \"price_change_percentage_24h\": -0.01058,\n",
      "        \"market_cap_change_24h\": 3757827791,\n",
      "        \"market_cap_change_percentage_24h\": 0.16126,\n",
      "        \"circulating_supply\": 19922890.0,\n",
      "        \"total_supply\": 19922890.0,\n",
      "        \"max_supply\": 21000000.0,\n",
      "        \"ath\": 124128,\n",
      "        \"ath_change_percentage\": -5.63277,\n",
      "        \"ath_date\": \"2025-08-14T00:37:02.582Z\",\n",
      "        \"atl\": 67.81,\n",
      "        \"atl_change_percentage\": 172644.32472,\n",
      "        \"atl_date\": \"2013-07-06T00:00:00.000Z\",\n",
      "        \"roi\": null,\n",
      "        \"last_updated\": \"2025-09-19T03:04:23.081Z\"\n",
      "    }\n",
      "]\n"
     ]
    }
   ],
   "source": [
    "formatted_response = json.dumps(payload, indent=4)\n",
    "print(formatted_response)"
   ]
  },
  {
   "cell_type": "markdown",
   "id": "fe19426e",
   "metadata": {},
   "source": [
    "# TRANSFORM"
   ]
  },
  {
   "cell_type": "code",
   "execution_count": 579,
   "id": "f014953c",
   "metadata": {},
   "outputs": [],
   "source": [
    "coins_df = pd.DataFrame(payload)"
   ]
  },
  {
   "cell_type": "code",
   "execution_count": 580,
   "id": "63c870a5",
   "metadata": {},
   "outputs": [
    {
     "name": "stdout",
     "output_type": "stream",
     "text": [
      "<class 'pandas.core.frame.DataFrame'>\n",
      "RangeIndex: 1 entries, 0 to 0\n",
      "Data columns (total 26 columns):\n",
      " #   Column                            Non-Null Count  Dtype  \n",
      "---  ------                            --------------  -----  \n",
      " 0   id                                1 non-null      object \n",
      " 1   symbol                            1 non-null      object \n",
      " 2   name                              1 non-null      object \n",
      " 3   image                             1 non-null      object \n",
      " 4   current_price                     1 non-null      int64  \n",
      " 5   market_cap                        1 non-null      int64  \n",
      " 6   market_cap_rank                   1 non-null      int64  \n",
      " 7   fully_diluted_valuation           1 non-null      int64  \n",
      " 8   total_volume                      1 non-null      int64  \n",
      " 9   high_24h                          1 non-null      int64  \n",
      " 10  low_24h                           1 non-null      int64  \n",
      " 11  price_change_24h                  1 non-null      float64\n",
      " 12  price_change_percentage_24h       1 non-null      float64\n",
      " 13  market_cap_change_24h             1 non-null      int64  \n",
      " 14  market_cap_change_percentage_24h  1 non-null      float64\n",
      " 15  circulating_supply                1 non-null      float64\n",
      " 16  total_supply                      1 non-null      float64\n",
      " 17  max_supply                        1 non-null      float64\n",
      " 18  ath                               1 non-null      int64  \n",
      " 19  ath_change_percentage             1 non-null      float64\n",
      " 20  ath_date                          1 non-null      object \n",
      " 21  atl                               1 non-null      float64\n",
      " 22  atl_change_percentage             1 non-null      float64\n",
      " 23  atl_date                          1 non-null      object \n",
      " 24  roi                               0 non-null      object \n",
      " 25  last_updated                      1 non-null      object \n",
      "dtypes: float64(9), int64(9), object(8)\n",
      "memory usage: 336.0+ bytes\n"
     ]
    }
   ],
   "source": [
    "coins_df.info()"
   ]
  },
  {
   "cell_type": "code",
   "execution_count": 581,
   "id": "6c034555",
   "metadata": {},
   "outputs": [
    {
     "name": "stdout",
     "output_type": "stream",
     "text": [
      "<class 'pandas.core.frame.DataFrame'>\n",
      "RangeIndex: 1 entries, 0 to 0\n",
      "Data columns (total 20 columns):\n",
      " #   Column                            Non-Null Count  Dtype  \n",
      "---  ------                            --------------  -----  \n",
      " 0   id                                1 non-null      object \n",
      " 1   symbol                            1 non-null      object \n",
      " 2   name                              1 non-null      object \n",
      " 3   current_price                     1 non-null      int64  \n",
      " 4   market_cap                        1 non-null      int64  \n",
      " 5   market_cap_rank                   1 non-null      int64  \n",
      " 6   total_volume                      1 non-null      int64  \n",
      " 7   high_24h                          1 non-null      int64  \n",
      " 8   low_24h                           1 non-null      int64  \n",
      " 9   price_change_percentage_24h       1 non-null      float64\n",
      " 10  market_cap_change_percentage_24h  1 non-null      float64\n",
      " 11  circulating_supply                1 non-null      float64\n",
      " 12  max_supply                        1 non-null      float64\n",
      " 13  ath                               1 non-null      int64  \n",
      " 14  ath_change_percentage             1 non-null      float64\n",
      " 15  ath_date                          1 non-null      object \n",
      " 16  atl                               1 non-null      float64\n",
      " 17  atl_change_percentage             1 non-null      float64\n",
      " 18  atl_date                          1 non-null      object \n",
      " 19  last_updated                      1 non-null      object \n",
      "dtypes: float64(7), int64(7), object(6)\n",
      "memory usage: 288.0+ bytes\n"
     ]
    }
   ],
   "source": [
    "coins_df = coins_df.drop(columns=['image', 'fully_diluted_valuation', 'price_change_24h', 'market_cap_change_24h', 'total_supply', 'roi'])\n",
    "coins_df.info()"
   ]
  },
  {
   "cell_type": "code",
   "execution_count": 582,
   "id": "285d2250",
   "metadata": {},
   "outputs": [
    {
     "name": "stdout",
     "output_type": "stream",
     "text": [
      "<class 'pandas.core.frame.DataFrame'>\n",
      "RangeIndex: 1 entries, 0 to 0\n",
      "Data columns (total 20 columns):\n",
      " #   Column                            Non-Null Count  Dtype              \n",
      "---  ------                            --------------  -----              \n",
      " 0   id                                1 non-null      object             \n",
      " 1   symbol                            1 non-null      object             \n",
      " 2   name                              1 non-null      object             \n",
      " 3   current_price                     1 non-null      int64              \n",
      " 4   market_cap                        1 non-null      int64              \n",
      " 5   market_cap_rank                   1 non-null      int64              \n",
      " 6   total_volume                      1 non-null      int64              \n",
      " 7   high_24h                          1 non-null      int64              \n",
      " 8   low_24h                           1 non-null      int64              \n",
      " 9   price_change_percentage_24h       1 non-null      float64            \n",
      " 10  market_cap_change_percentage_24h  1 non-null      float64            \n",
      " 11  circulating_supply                1 non-null      float64            \n",
      " 12  max_supply                        1 non-null      float64            \n",
      " 13  ath                               1 non-null      int64              \n",
      " 14  ath_change_percentage             1 non-null      float64            \n",
      " 15  ath_date                          1 non-null      datetime64[ns, UTC]\n",
      " 16  atl                               1 non-null      float64            \n",
      " 17  atl_change_percentage             1 non-null      float64            \n",
      " 18  atl_date                          1 non-null      datetime64[ns, UTC]\n",
      " 19  last_updated                      1 non-null      datetime64[ns, UTC]\n",
      "dtypes: datetime64[ns, UTC](3), float64(7), int64(7), object(3)\n",
      "memory usage: 288.0+ bytes\n"
     ]
    }
   ],
   "source": [
    "coins_df['ath_date'] = pd.to_datetime(coins_df['ath_date'], errors='coerce')\n",
    "coins_df['atl_date'] = pd.to_datetime(coins_df['atl_date'], errors='coerce')\n",
    "coins_df['last_updated'] = pd.to_datetime(coins_df['last_updated'], errors='coerce')\n",
    "\n",
    "decimals_dict = {\n",
    "    'current_price': 8,\n",
    "    'high_24h': 8,\n",
    "    'low_24h': 8,\n",
    "    'price_change_percentage_24h': 4,\n",
    "    'market_cap_change_percentage_24h': 4,\n",
    "    'circulating_supply': 8,\n",
    "    'max_supply': 8,\n",
    "    'ath': 8,\n",
    "    'ath_change_percentage': 4,\n",
    "    'atl': 8,\n",
    "    'atl_change_percentage': 4\n",
    "}\n",
    "\n",
    "coins_df = coins_df.round(decimals_dict)\n",
    "\n",
    "coins_df.info()"
   ]
  },
  {
   "cell_type": "markdown",
   "id": "4ba3cbf5",
   "metadata": {},
   "source": [
    "# LOAD"
   ]
  },
  {
   "cell_type": "code",
   "execution_count": 583,
   "id": "55705473",
   "metadata": {},
   "outputs": [],
   "source": [
    "MYSQL_USER = os.getenv(\"MYSQL_USER\")\n",
    "MYSQL_PASSWORD = os.getenv(\"MYSQL_PASSWORD\")\n",
    "MYSQL_HOST = os.getenv(\"MYSQL_HOST\")\n",
    "MYSQL_PORT = os.getenv(\"MYSQL_PORT\")\n",
    "MYSQL_DB = os.getenv(\"MYSQL_DATABASE\")"
   ]
  },
  {
   "cell_type": "code",
   "execution_count": 584,
   "id": "caa837c3",
   "metadata": {},
   "outputs": [
    {
     "name": "stdout",
     "output_type": "stream",
     "text": [
      "[SUCCESS] Connected to MySQL db localhost:3306/cryptodb as user root\n"
     ]
    }
   ],
   "source": [
    "db_conn = connector.connect(\n",
    "    host=MYSQL_HOST,\n",
    "    user=MYSQL_USER,\n",
    "    password=MYSQL_PASSWORD,\n",
    "    port=MYSQL_PORT,\n",
    "    database=MYSQL_DB,\n",
    "    connection_timeout=10,\n",
    "    autocommit=False,\n",
    "    raise_on_warnings=True\n",
    ")   \n",
    "\n",
    "db_cur = db_conn.cursor()\n",
    "print(f\"[SUCCESS] Connected to MySQL db {MYSQL_HOST}:{MYSQL_PORT}/{MYSQL_DB} as user {MYSQL_USER}\")\n"
   ]
  },
  {
   "cell_type": "code",
   "execution_count": 585,
   "id": "eb376457",
   "metadata": {},
   "outputs": [
    {
     "name": "stdout",
     "output_type": "stream",
     "text": [
      "[SUCCESS] Table 'market_snapshots' exists in database 'cryptodb'\n"
     ]
    }
   ],
   "source": [
    "sql_table = \"market_snapshots\"\n",
    "db_cur.execute(f\"SHOW TABLES LIKE '{sql_table}'\")\n",
    "\n",
    "if db_cur.fetchone() is None:\n",
    "    raise SystemExit(f\"[ERROR] Table '{sql_table}' does not exist in database '{MYSQL_DB}'\")\n",
    "else:\n",
    "    print(f\"[SUCCESS] Table '{sql_table}' exists in database '{MYSQL_DB}'\")\n",
    "    "
   ]
  },
  {
   "cell_type": "code",
   "execution_count": 586,
   "id": "30b11205",
   "metadata": {},
   "outputs": [],
   "source": [
    "UPSERT_SQL = f\"\"\"\n",
    "INSERT INTO {sql_table} (\n",
    "    coin_id, symbol, name, current_price, market_cap, \n",
    "    market_cap_rank, total_volume, high_24h, low_24h, \n",
    "    price_change_percentage_24h, market_cap_change_percentage_24h, \n",
    "    circulating_supply, max_supply, ath, ath_change_percentage, \n",
    "    ath_date, atl, atl_change_percentage, atl_date, last_updated\n",
    ") \n",
    "VALUES (\n",
    "    %s, %s, %s, %s, %s, \n",
    "    %s, %s, %s, %s, \n",
    "    %s, %s, \n",
    "    %s, %s, %s, %s, \n",
    "    %s, %s, %s, %s, %s\n",
    ") AS src\n",
    "ON DUPLICATE KEY UPDATE\n",
    "    coin_id = src.coin_id,\n",
    "    symbol = src.symbol,\n",
    "    name = src.name,\n",
    "    current_price = src.current_price,\n",
    "    market_cap = src.market_cap,\n",
    "    market_cap_rank = src.market_cap_rank,\n",
    "    total_volume = src.total_volume,\n",
    "    high_24h = src.high_24h,\n",
    "    low_24h = src.low_24h,\n",
    "    price_change_percentage_24h = src.price_change_percentage_24h,\n",
    "    market_cap_change_percentage_24h = src.market_cap_change_percentage_24h,\n",
    "    circulating_supply = src.circulating_supply,\n",
    "    max_supply = src.max_supply,\n",
    "    ath = src.ath,\n",
    "    ath_change_percentage = src.ath_change_percentage,\n",
    "    ath_date = src.ath_date,\n",
    "    atl = src.atl,\n",
    "    atl_change_percentage = src.atl_change_percentage,\n",
    "    atl_date = src.atl_date,\n",
    "    last_updated = src.last_updated\n",
    "\"\"\"\n"
   ]
  },
  {
   "cell_type": "code",
   "execution_count": 587,
   "id": "f73c2304",
   "metadata": {},
   "outputs": [
    {
     "name": "stdout",
     "output_type": "stream",
     "text": [
      "[['bitcoin', 'btc', 'Bitcoin', 117167, 2334064704577, 1, 41488303467, 117888, 116774, -0.0106, 0.1613, 19922890.0, 21000000.0, 124128, -5.6328, Timestamp('2025-08-14 00:37:02.582000+0000', tz='UTC'), 67.81, 172644.3247, Timestamp('2013-07-06 00:00:00+0000', tz='UTC'), Timestamp('2025-09-19 03:04:23.081000+0000', tz='UTC')]]\n"
     ]
    }
   ],
   "source": [
    "coins_list = coins_df.values.tolist()\n",
    "print(coins_list)"
   ]
  },
  {
   "cell_type": "code",
   "execution_count": 588,
   "id": "3b507ee5",
   "metadata": {},
   "outputs": [
    {
     "name": "stdout",
     "output_type": "stream",
     "text": [
      "[SUCCESS] Upserted 1 records into table 'market_snapshots'\n",
      "[INFO] MySQL connection closed\n"
     ]
    }
   ],
   "source": [
    "try:\n",
    "    db_cur.executemany(UPSERT_SQL, coins_list)\n",
    "    db_conn.commit()\n",
    "    print(f\"[SUCCESS] Upserted {db_cur.rowcount} records into table '{sql_table}'\")\n",
    "except connector.Error as err:\n",
    "    db_conn.rollback()\n",
    "    print(f\"[ERROR] Failed to upsert records into table '{sql_table}': {err}\")\n",
    "finally:\n",
    "    db_cur.close()\n",
    "    db_conn.close()\n",
    "    print(\"[INFO] MySQL connection closed\")"
   ]
  }
 ],
 "metadata": {
  "kernelspec": {
   "display_name": "crypto-etl-venv (3.10.12)",
   "language": "python",
   "name": "python3"
  },
  "language_info": {
   "codemirror_mode": {
    "name": "ipython",
    "version": 3
   },
   "file_extension": ".py",
   "mimetype": "text/x-python",
   "name": "python",
   "nbconvert_exporter": "python",
   "pygments_lexer": "ipython3",
   "version": "3.10.12"
  }
 },
 "nbformat": 4,
 "nbformat_minor": 5
}
